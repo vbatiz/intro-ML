{
  "cells": [
    {
      "cell_type": "markdown",
      "metadata": {
        "id": "1wWnVn6b0a4N"
      },
      "source": [
        "## Introducción al Aprendizaje Automático\n",
        "\n",
        "![Python](https://www.python.org/static/img/python-logo.png)"
      ]
    },
    {
      "cell_type": "markdown",
      "metadata": {
        "id": "CtQS90sX0h9V"
      },
      "source": [
        "### Índice\n",
        "\n",
        "**Cuaderno 1**\n",
        "\n",
        "[Muestreo simple y estratificado](IntroML_01.ipynb)\n",
        "\n",
        "**Cuaderno 2**\n",
        "\n",
        "[Exploración de datos e Introducción al aprendizaje automático](IntroML_02.ipynb)\n",
        "\n",
        "**Cuaderno 3**\n",
        "\n",
        "[K-Means](IntroML_03.ipynb)\n",
        "\n",
        "**Cuaderno 4**\n",
        "\n",
        "[KNN - Vecinos más cercanos](IntroML_04.ipynb)\n",
        "\n",
        "**Cuaderno 5**\n",
        "\n",
        "[Ejemplo de Clasificación usando el dataset Iris](IntroML_05.ipynb)\n",
        "\n",
        "**Cuaderno 6**\n",
        "\n",
        "[KNN - Ejemplo de Regresión](IntroML_06.ipynb)\n",
        "\n",
        "**Cuaderno 7**\n",
        "\n",
        "[Ejemplo de Codificación de variables categóricas](IntroML_07.ipynb)\n"
      ]
    }
  ],
  "metadata": {
    "colab": {
      "provenance": []
    },
    "kernelspec": {
      "display_name": "Python 3",
      "name": "python3"
    },
    "language_info": {
      "name": "python"
    }
  },
  "nbformat": 4,
  "nbformat_minor": 0
}
