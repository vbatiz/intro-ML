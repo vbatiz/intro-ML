{
  "cells": [
    {
      "cell_type": "markdown",
      "metadata": {
        "id": "1wWnVn6b0a4N"
      },
      "source": [
        "## Introducción al Aprendizaje Automático\n",
        "\n",
        "![Python](https://www.python.org/static/img/python-logo.png)"
      ]
    },
    {
      "cell_type": "markdown",
      "metadata": {
        "id": "CtQS90sX0h9V"
      },
      "source": [
        "## Índice\n",
        "\n",
        "### Introducción al ML\n",
        "\n",
        "**Cuaderno 1**\n",
        "\n",
        "[Muestreo simple y estratificado](IntroML_01.ipynb)\n",
        "\n",
        "**Cuaderno 2**\n",
        "\n",
        "[Exploración de datos e Introducción al aprendizaje automático](IntroML_02.ipynb)\n",
        "\n",
        "**Cuaderno 3**\n",
        "\n",
        "[K-Means](IntroML_03.ipynb)\n",
        "\n",
        "**Cuaderno 4**\n",
        "\n",
        "[KNN - Vecinos más cercanos](IntroML_04.ipynb)\n",
        "\n",
        "**Cuaderno 5**\n",
        "\n",
        "[Ejemplo de Clasificación usando el dataset Iris](IntroML_05.ipynb)\n",
        "\n",
        "**Cuaderno 6**\n",
        "\n",
        "[KNN - Ejemplo de Regresión](IntroML_06.ipynb)\n",
        "\n",
        "**Cuaderno 7**\n",
        "\n",
        "[Ejemplo de Codificación de variables categóricas](IntroML_07.ipynb)\n",
        "\n",
        "**Cuaderno 8**\n",
        "\n",
        "[Ejemplo de Clasificación con Support Vector Machine](IntroML_08.ipynb)\n",
        "\n",
        "**Cuaderno 9**\n",
        "\n",
        "[Ejemplo de Clasificación con Naive Bayes](IntroML_09.ipynb)\n",
        "\n",
        "\n",
        "**Cuaderno 10**\n",
        "\n",
        "[Ejemplo de Perceptrón Simple construido desde cero](IntroML_10.ipynb)\n",
        "\n",
        "\n",
        "**Cuaderno 11**\n",
        "\n",
        "[Ejemplo de Perceptrón Multicapa con Keras para resolver compuertas lógicas](IntroML_11.ipynb)\n",
        "\n",
        "\n",
        "**Cuaderno 12**\n",
        "\n",
        "[Ejemplo de Perceptrón Multicapa para clasificar ropa](IntroML_12.ipynb)\n",
        "\n",
        "**Cuaderno 13**\n",
        "\n",
        "[Clasificador de números con TensorFlow y MNIST](IntroML_13.ipynb)\n",
        "\n",
        "**Cuaderno 14**\n",
        "\n",
        "[Regresión Logística con un enfoque de Redes Neuronales](IntroML_14.ipynb)\n",
        "\n",
        "**Cuaderno 15**\n",
        "\n",
        "[Regresión Simple con tensorflow, Pandas y el dataset Auto MPG](IntroML_15.ipynb)\n",
        "\n",
        "**Cuaderno 16**\n",
        "\n",
        "[Red neuronal utlizando el dataset Iris](IntroML_16.ipynb)\n",
        "\n",
        "\n",
        "\n",
        "\n",
        "\n",
        "\n",
        "### Temas extras\n",
        "\n",
        "[Introducción a OpenCV](Intro_OpenCV.ipynb)"
      ]
    }
  ],
  "metadata": {
    "colab": {
      "provenance": []
    },
    "kernelspec": {
      "display_name": "Python 3",
      "name": "python3"
    },
    "language_info": {
      "name": "python"
    }
  },
  "nbformat": 4,
  "nbformat_minor": 0
}
