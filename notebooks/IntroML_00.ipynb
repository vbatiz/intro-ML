{
  "cells": [
    {
      "cell_type": "markdown",
      "metadata": {
        "id": "1wWnVn6b0a4N"
      },
      "source": [
        "## Introducción al Aprendizaje Automático\n",
        "\n",
        "![Python](https://www.python.org/static/img/python-logo.png)"
      ]
    },
    {
      "cell_type": "markdown",
      "metadata": {
        "id": "CtQS90sX0h9V"
      },
      "source": [
        "### Índice\n",
        "\n",
        "**Cuaderno 1**\n",
        "\n",
        "[Muestreo simple y estratificado](IntroML_01.ipynb)\n",
        "\n",
        "**Cuaderno 2**\n",
        "\n",
        "[Exploración de datos](IntroML_02.ipynb)\n"
      ]
    }
  ],
  "metadata": {
    "colab": {
      "provenance": []
    },
    "kernelspec": {
      "display_name": "Python 3",
      "name": "python3"
    },
    "language_info": {
      "name": "python"
    }
  },
  "nbformat": 4,
  "nbformat_minor": 0
}
