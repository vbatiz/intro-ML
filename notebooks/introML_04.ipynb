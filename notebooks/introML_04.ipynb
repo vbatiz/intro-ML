{
  "cells": [
    {
      "cell_type": "markdown",
      "metadata": {
        "id": "D0dEU_3b7poO"
      },
      "source": [
        "## KNN K-Nearest Neighbors Classifier"
      ]
    },
    {
      "cell_type": "markdown",
      "metadata": {
        "id": "fGr3n1cv7poR"
      },
      "source": [
        "K-Nearest Neighbors (KNN) es un algoritmo de clasificación. La idea central es que los puntos de datos con atributos similares tienden a caer en categorías similares.\n",
        "\n",
        "Veamos la imagen de abajo. Esta imagen es complicada, pero por ahora vamos a centrarnos en dónde se colocan los puntos de datos. Cada punto de datos - ya sea de color rojo, verde o blanco - tiene un valor x y un valor y. Como resultado, se puede representar gráficamente. Como resultado, se puede trazar en este gráfico bidimensional."
      ]
    },
    {
      "cell_type": "markdown",
      "metadata": {
        "id": "-7hpOUmg7poT"
      },
      "source": [
        "![NearestNeighbors](https://raw.githubusercontent.com/vbatiz/intro-ML/main/notebooks/images/nearest_neighbor.gif)"
      ]
    },
    {
      "cell_type": "markdown",
      "metadata": {
        "id": "i4zO0vVI7poU"
      },
      "source": [
        "A continuación, consideremos el color de los datos. El color representa la clase que el algoritmo K-Nearest Neighbor intenta clasificar. En esta imagen, los puntos de datos pueden tener la clase verde o la clase roja. Si un punto de datos es blanco, significa que aún no tiene clase. El objetivo del algoritmo es clasificar estos puntos desconocidos.\n",
        "\n",
        "Por último, considere el círculo en expansión alrededor del punto blanco. Este círculo busca los k vecinos más cercanos al punto blanco. Cuando k = 3, el círculo es bastante pequeño. Dos de los tres vecinos más cercanos son verdes y uno es rojo. En este caso, el algoritmo clasificaría el punto blanco como verde. Sin embargo, cuando aumentamos k a 5, el círculo se amplía y la clasificación cambia. Tres de los vecinos más cercanos son rojos y dos son verdes, por lo que ahora el punto blanco se clasificará como rojo.\n",
        "\n",
        "Esta es la idea central del algoritmo K-Nearest Neighbor. Si se dispone de un conjunto de datos de puntos cuya clase se conoce, se puede tomar un nuevo punto de clase desconocida, encontrar sus vecinos más cercanos y clasificarlo."
      ]
    },
    {
      "cell_type": "markdown",
      "metadata": {
        "id": "_Zfc49uM7poV"
      },
      "source": [
        "### Distancia entre puntos - 2D\n",
        "\n",
        "En el primer ejercicio, pudimos visualizar el conjunto de datos y estimar los k vecinos más cercanos de un punto desconocido. Pero eso no lo puede hacer un ordenador.\n",
        "\n",
        "Tenemos que definir qué significa que dos puntos estén cerca o lejos. Para ello, vamos a utilizar la Fórmula de la Distancia."
      ]
    },
    {
      "cell_type": "markdown",
      "metadata": {
        "id": "mN6LZ9Ac7poV"
      },
      "source": [
        "En este ejemplo, los datos tienen dos dimensiones:\n",
        "\n",
        "- La duración de la película\n",
        "- La fecha de estreno de la película\n",
        "\n",
        "Consideremos La guerra de las galaxias y En busca del arca perdida. La guerra de las galaxias dura 125 minutos y se estrenó en 1977. En busca del arca perdida dura 115 minutos y se estrenó en 1981.\n",
        "\n",
        "La distancia entre las películas se calcula a continuación:\n",
        "\n",
        "$d = \\sqrt {\\left( {x_1 - x_2 } \\right)^2 + \\left( {y_1 - y_2 } \\right)^2 }$\n",
        "\n",
        "$d = \\sqrt {\\left( {125 - 115 } \\right)^2 + \\left( {1977 - 1981 } \\right)^2 } = 10.77$\n",
        "\n",
        "Creamos la función distancia"
      ]
    },
    {
      "cell_type": "code",
      "execution_count": 1,
      "metadata": {
        "id": "SdudoR7x7poW",
        "outputId": "45466485-44c9-45bb-ba77-e4ef506880fc",
        "colab": {
          "base_uri": "https://localhost:8080/"
        }
      },
      "outputs": [
        {
          "output_type": "stream",
          "name": "stdout",
          "text": [
            "10.770329614269007\n",
            "38.897300677553446\n"
          ]
        }
      ],
      "source": [
        "star_wars = [125, 1977]\n",
        "raiders = [115, 1981]\n",
        "mean_girls = [97, 2004]\n",
        "\n",
        "def distance(movie1, movie2):\n",
        "  length_difference = (movie1[0] - movie2[0]) ** 2\n",
        "  year_difference = (movie1[1] - movie2[1]) ** 2\n",
        "  distance = (length_difference+year_difference)**0.5\n",
        "  return distance\n",
        "\n",
        "print(distance(star_wars,raiders))\n",
        "print(distance(star_wars,mean_girls))"
      ]
    },
    {
      "cell_type": "markdown",
      "metadata": {
        "id": "OQFNWk9y7poX"
      },
      "source": [
        "### Distancia entre puntos - 3D\n",
        "\n",
        "Hacer una predicción de la calificación de las películas basándose únicamente en la duración y la fecha de estreno es bastante limitado. Hay muchos más datos interesantes sobre las películas que podríamos utilizar. Así que añadamos otra dimensión.\n",
        "\n",
        "Digamos que esta tercera dimensión es el presupuesto de la película. Ahora tenemos que encontrar la distancia entre estos dos puntos en tres dimensiones.\n",
        "\n",
        "![3D](https://raw.githubusercontent.com/vbatiz/intro-ML/main/notebooks/images/threed.webp)\n",
        "\n",
        "¿Y si no nos conformamos con tres dimensiones? Por desgracia, resulta bastante difícil visualizar puntos en dimensiones superiores a 3. Pero eso no significa que no podamos hallar la distancia entre ellos.\n",
        "\n",
        "La fórmula generalizada de la distancia entre los puntos A y B es la siguiente:\n",
        "\n",
        "$d = \\sqrt {\\left( {A_1 - B_1 } \\right)^2 + \\left( {A_2 - B_2 } \\right)^2 + ... + \\left( {A_n - B_n } \\right)^2 }$\n",
        "\n",
        "Aquí, $A_1-B_1$ es la diferencia entre la primera característica de cada punto. $A_n-B_n$ es la diferencia entre la última característica de cada punto.\n",
        "\n",
        "Usando esta fórmula, podemos encontrar los K vecinos más cercanos de un punto en un espacio N-dimensional. Ahora podemos utilizar tanta información sobre nuestras películas como queramos."
      ]
    },
    {
      "cell_type": "code",
      "execution_count": 3,
      "metadata": {
        "id": "GJOplo3y7poX"
      },
      "outputs": [],
      "source": [
        "def distance(pt1, pt2):\n",
        "  distance = 0\n",
        "  for i in range(len(pt1)):\n",
        "    distance += (pt1[i] - pt2[i]) ** 2\n",
        "  return distance ** 0.5"
      ]
    },
    {
      "cell_type": "code",
      "execution_count": 4,
      "metadata": {
        "id": "m7_I6CLu7poX",
        "outputId": "23a2f849-ab58-4096-e2ea-be3cc421024e",
        "colab": {
          "base_uri": "https://localhost:8080/"
        }
      },
      "outputs": [
        {
          "output_type": "stream",
          "name": "stdout",
          "text": [
            "7000000.000008286\n",
            "6000000.000126083\n"
          ]
        }
      ],
      "source": [
        "star_wars = [125, 1977, 11000000]\n",
        "raiders = [115, 1981, 18000000]\n",
        "mean_girls = [97, 2004, 17000000]\n",
        "print(distance(star_wars,raiders))\n",
        "print(distance(star_wars,mean_girls))"
      ]
    },
    {
      "cell_type": "markdown",
      "metadata": {
        "id": "nR_1v5Cy7poY"
      },
      "source": [
        "### Datos con Diferentes Escalas: Normalización\n",
        "\n",
        "Cuando añadimos la dimensión de presupuesto, es posible que se haya dado cuenta de que hay algunos problemas con el aspecto actual de nuestros datos.\n",
        "\n",
        "Consideremos las dos dimensiones de fecha de estreno y presupuesto. La diferencia máxima entre las fechas de estreno de dos películas es de unos 125 años (los hermanos Lumière hacían películas en la década de 1890). Sin embargo, la diferencia entre el presupuesto de dos películas puede ser de millones de dólares.\n",
        "\n",
        "El problema es que la fórmula de la distancia trata todas las dimensiones por igual, independientemente de su escala. Si dos películas se estrenaran con 70 años de diferencia, eso debería ser un gran problema. Sin embargo, ahora mismo, eso equivale exactamente a dos películas que tienen una diferencia de presupuesto de 70 dólares. La diferencia en un año es exactamente igual a la diferencia en un dólar de presupuesto. Es absurdo.\n",
        "\n",
        "Otra forma de pensar en esto es que el presupuesto supera completamente la importancia de todas las demás dimensiones porque es de una escala enorme. El hecho de que dos películas se hicieran con 70 años de diferencia es esencialmente insignificante comparado con la diferencia de millones en la otra dimensión.\n",
        "\n",
        "La solución a este problema es normalizar los datos para que cada valor esté entre 0 y 1. En esta sección, vamos a utilizar la normalización mín-máx.\n",
        "\n",
        "Para ello haremos nuestra propia función para normalizar una lista de números:"
      ]
    },
    {
      "cell_type": "code",
      "execution_count": 5,
      "metadata": {
        "id": "v9In2ADm7poY"
      },
      "outputs": [],
      "source": [
        "def min_max_normalize(lst):\n",
        "  minimum = min(lst)\n",
        "  maximum = max(lst)\n",
        "  normalized = []\n",
        "  for valor in lst:\n",
        "    valor_normalizado = (valor-minimum)/(maximum-minimum)\n",
        "    normalized.append(valor_normalizado)\n",
        "  return normalized"
      ]
    },
    {
      "cell_type": "markdown",
      "metadata": {
        "id": "Cc-sgsjK7poY"
      },
      "source": [
        "Probemos la función:"
      ]
    },
    {
      "cell_type": "code",
      "execution_count": 6,
      "metadata": {
        "id": "Y7XNwNj07poY",
        "outputId": "31b43344-32d9-45ee-88c9-dc28059fc6b7",
        "colab": {
          "base_uri": "https://localhost:8080/"
        }
      },
      "outputs": [
        {
          "output_type": "stream",
          "name": "stdout",
          "text": [
            "[0.047619047619047616, 0.8492063492063492, 0.8650793650793651, 0.4523809523809524, 0.5634920634920635, 0.46825396825396826, 0.6666666666666666, 0.5476190476190477, 1.0, 0.36507936507936506, 0.6111111111111112, 0.8333333333333334, 0.42063492063492064, 0.0, 0.8253968253968254, 0.4523809523809524, 0.9523809523809523, 0.5873015873015873, 0.0, 0.6904761904761905]\n"
          ]
        }
      ],
      "source": [
        "release_dates = [1897, 1998, 2000, 1948, 1962, 1950, 1975, 1960, 2017, 1937, 1968, 1996, 1944, 1891, 1995, 1948, 2011, 1965, 1891, 1978]\n",
        "\n",
        "datos_normalizados = min_max_normalize(release_dates)\n",
        "print(datos_normalizados)"
      ]
    },
    {
      "cell_type": "markdown",
      "metadata": {
        "id": "QxHJWENo7poY"
      },
      "source": [
        "### Encontrando los vecinos más próximos (Nearest Neighbors)\n",
        "\n",
        "Ahora que nuestros datos están normalizados y sabemos cómo hallar la distancia entre dos puntos, podemos empezar a clasificar los datos desconocidos.\n",
        "\n",
        "Para ello, queremos encontrar los k vecinos más cercanos del punto no clasificado. En algunos ejercicios, aprenderemos a elegir k correctamente, pero por ahora, elijamos un número que parezca razonable. Elijamos 5.\n",
        "\n",
        "Para encontrar los 5 vecinos más cercanos, tenemos que comparar esta nueva película sin clasificar con todas las demás películas del conjunto de datos. Esto significa que vamos a utilizar la fórmula de la distancia una y otra vez. En última instancia, queremos obtener una lista ordenada de distancias y las películas asociadas a esas distancias.\n",
        "\n",
        "Podría ser algo como esto:\n",
        "\n",
        "```\n",
        "[\n",
        "  [0.30, 'Superman II'],\n",
        "  [0.31, 'Finding Nemo'],\n",
        "  ...\n",
        "  ...\n",
        "  [0.38, 'Blazing Saddles']\n",
        "]\n",
        "\n",
        "```\n",
        "\n",
        "En este ejemplo, la película desconocida tiene una distancia de 0,30 a Superman II.\n",
        "\n",
        "A continuación, utilizaremos las etiquetas asociadas a estas películas para clasificar el punto sin etiqueta."
      ]
    },
    {
      "cell_type": "code",
      "execution_count": 7,
      "metadata": {
        "id": "japZLxtK7poY",
        "outputId": "0b83c23d-352a-4c53-b1a8-f9d9d4af5ca0",
        "colab": {
          "base_uri": "https://localhost:8080/"
        }
      },
      "outputs": [
        {
          "output_type": "stream",
          "name": "stdout",
          "text": [
            "--2024-06-08 18:06:00--  https://raw.githubusercontent.com/vbatiz/intro-ML/main/notebooks/movies.py\n",
            "Resolving raw.githubusercontent.com (raw.githubusercontent.com)... 185.199.110.133, 185.199.109.133, 185.199.108.133, ...\n",
            "Connecting to raw.githubusercontent.com (raw.githubusercontent.com)|185.199.110.133|:443... connected.\n",
            "HTTP request sent, awaiting response... 200 OK\n",
            "Length: 389311 (380K) [text/plain]\n",
            "Saving to: ‘movies.py’\n",
            "\n",
            "movies.py           100%[===================>] 380.19K  --.-KB/s    in 0.04s   \n",
            "\n",
            "2024-06-08 18:06:00 (8.54 MB/s) - ‘movies.py’ saved [389311/389311]\n",
            "\n"
          ]
        }
      ],
      "source": [
        "#Usaremos un archivo que contiene dos diccionarios con información de películas\n",
        "!wget --no-check-certificate https://raw.githubusercontent.com/vbatiz/intro-ML/main/notebooks/movies.py -O movies.py"
      ]
    },
    {
      "cell_type": "code",
      "execution_count": 12,
      "metadata": {
        "id": "5xQGTF9n7poZ",
        "outputId": "cde14efe-b7dc-4173-d82a-19de0040e986",
        "colab": {
          "base_uri": "https://localhost:8080/"
        }
      },
      "outputs": [
        {
          "output_type": "stream",
          "name": "stdout",
          "text": [
            "[0.010232883159164057, 0.21843003412969283, 0.9775280898876404]\n",
            "0\n"
          ]
        }
      ],
      "source": [
        "from movies import movie_dataset, movie_labels\n",
        "print(movie_dataset['Teenage Mutant Ninja Turtles'])\n",
        "print(movie_labels['Teenage Mutant Ninja Turtles'])  #Valor de 1 significa buena película, 0 = mala película"
      ]
    },
    {
      "cell_type": "markdown",
      "metadata": {
        "id": "zUfeo2Vj7poZ"
      },
      "source": [
        "Hemos importado un conjunto de datos de películas previamente normalizado e impreso los datos de la película Bruce Almighty. Cada película del conjunto de datos tiene tres características:\n",
        "\n",
        "- el presupuesto normalizado (dólares)\n",
        "- la duración normalizada (minutos)\n",
        "- el año de estreno normalizado.\n",
        "\n",
        "También hemos importado las etiquetas asociadas a cada película del conjunto de datos. La etiqueta asociada a Bruce Almighty es un 0, lo que indica que es una mala película. Recordemos que una película mala tiene una calificación inferior a 0.7 en IMDb.\n",
        "\n",
        "Crearemos ahora nuestra propia función de clasificación de vecinos más cercanos. La función tiene tres parámetros: el punto de datos que desea clasificar denominado unknown, el conjunto de datos que utiliza para clasificarlo denominado dataset y k, el número de vecinos que le interesa."
      ]
    },
    {
      "cell_type": "code",
      "execution_count": 13,
      "metadata": {
        "id": "Tad0JxEM7poZ",
        "outputId": "c2d58e0d-5ac9-4eb9-d7dd-680d887c84cf",
        "colab": {
          "base_uri": "https://localhost:8080/"
        }
      },
      "outputs": [
        {
          "output_type": "stream",
          "name": "stdout",
          "text": [
            "[[0.08273614694606074, 'Lady Vengeance'], [0.22989623153818367, 'Steamboy'], [0.23641372358159884, 'Fateless'], [0.26735445689589943, 'Princess Mononoke'], [0.3311022951533416, 'Godzilla 2000']]\n"
          ]
        }
      ],
      "source": [
        "def classify(unknown, dataset, k):\n",
        "  distances = []\n",
        "  for title in dataset:\n",
        "    distancia_al_punto = distance(dataset[title], unknown)\n",
        "    distances.append([distancia_al_punto,title])\n",
        "  distances.sort()\n",
        "  neighbors = distances[:k]\n",
        "  return neighbors\n",
        "\n",
        "print(classify([.4, .2, .9],movie_dataset,5))"
      ]
    },
    {
      "cell_type": "markdown",
      "metadata": {
        "id": "2toSZV6N7poZ"
      },
      "source": [
        "### Contando vecinos\n",
        "\n",
        "Ahora hemos encontrado los k vecinos más cercanos y los hemos almacenado en una lista que tiene este aspecto:\n",
        "\n",
        "```\n",
        "[\n",
        "  [0.083, 'Lady Vengeance'],\n",
        "  [0.236, 'Steamboy'],\n",
        "  ...\n",
        "  ...\n",
        "  [0.331, 'Godzilla 2000']\n",
        "]\n",
        "```\n",
        "\n",
        "Nuestro objetivo ahora es contar el número de películas buenas y malas en la lista de vecinos. Si hay más vecinos buenos, el algoritmo clasificará la película desconocida como buena. En caso contrario, la clasificará como mala.\n",
        "\n",
        "Para averiguar la clase de cada una de las etiquetas, tendremos que consultar nuestro conjunto de datos movie_labels. Por ejemplo, movie_labels['Akira'] nos daría 1 porque Akira está clasificada como una buena película.\n",
        "\n",
        "Te preguntarás qué pasa si hay un empate. ¿Qué pasa si k = 8 y cuatro vecinos son buenos y cuatro malos? Hay distintas estrategias, pero una forma de deshacer el empate sería elegir la clase del punto más cercano."
      ]
    },
    {
      "cell_type": "code",
      "execution_count": 18,
      "metadata": {
        "id": "BJZCvkS27poa",
        "outputId": "4cb19db2-0cf7-411c-def2-5a766c0ba2c4",
        "colab": {
          "base_uri": "https://localhost:8080/"
        }
      },
      "outputs": [
        {
          "output_type": "stream",
          "name": "stdout",
          "text": [
            "1\n",
            "0\n",
            "0\n",
            "1\n",
            "1\n"
          ]
        }
      ],
      "source": [
        "print(movie_labels['Akira'])\n",
        "print(movie_labels['Lady Vengeance'])\n",
        "print(movie_labels['Godzilla 2000'])\n",
        "print(movie_labels['Steamboy'])\n",
        "print(movie_labels['Fateless'])\n",
        "print(movie_labels['Princess Mononoke'])\n"
      ]
    },
    {
      "cell_type": "markdown",
      "metadata": {
        "id": "HX1ZX49Y7poa"
      },
      "source": [
        "Modificaremos nuestra función classify para que tome en consideración las etiquetas y determine la cantidad de vecinos buenos y malos."
      ]
    },
    {
      "cell_type": "code",
      "execution_count": 19,
      "metadata": {
        "id": "OiePoyIY7poa"
      },
      "outputs": [],
      "source": [
        "def classify(unknown, dataset, labels, k):\n",
        "  distances = []\n",
        "  #Recrremos el dataset\n",
        "  for title in dataset:\n",
        "    movie = dataset[title]\n",
        "    distance_to_point = distance(movie, unknown)\n",
        "    #Agregamos la distancia y el punto asociado a ella\n",
        "    distances.append([distance_to_point, title])\n",
        "  distances.sort()\n",
        "  #Tomamos solo los k más cercanos\n",
        "  neighbors = distances[0:k]\n",
        "  num_good = 0\n",
        "  num_bad = 0\n",
        "  for neighbor in neighbors:\n",
        "    title = neighbor[1]\n",
        "    if labels[title] == 0:\n",
        "      num_bad += 1\n",
        "    elif labels[title] == 1:\n",
        "      num_good += 1\n",
        "  if num_good > num_bad:\n",
        "    return 1\n",
        "  else:\n",
        "    return 0"
      ]
    },
    {
      "cell_type": "markdown",
      "metadata": {
        "id": "xi-UAhud7poa"
      },
      "source": [
        "Probamos la nueva función"
      ]
    },
    {
      "cell_type": "code",
      "execution_count": 20,
      "metadata": {
        "id": "7JAGvhXL7poa",
        "outputId": "7233148f-563d-4493-dbe9-7768191fca98",
        "colab": {
          "base_uri": "https://localhost:8080/"
        }
      },
      "outputs": [
        {
          "output_type": "stream",
          "name": "stdout",
          "text": [
            "1\n"
          ]
        }
      ],
      "source": [
        "print(classify([.4, .2, .9],movie_dataset, movie_labels,5))"
      ]
    }
  ],
  "metadata": {
    "kernelspec": {
      "display_name": "Python 3",
      "language": "python",
      "name": "python3"
    },
    "language_info": {
      "codemirror_mode": {
        "name": "ipython",
        "version": 3
      },
      "file_extension": ".py",
      "mimetype": "text/x-python",
      "name": "python",
      "nbconvert_exporter": "python",
      "pygments_lexer": "ipython3",
      "version": "3.10.13"
    },
    "colab": {
      "provenance": []
    }
  },
  "nbformat": 4,
  "nbformat_minor": 0
}