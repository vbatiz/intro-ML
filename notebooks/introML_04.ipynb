{
 "cells": [
  {
   "cell_type": "markdown",
   "metadata": {},
   "source": [
    "## KNN K-Nearest Neighbors Classifier"
   ]
  },
  {
   "cell_type": "markdown",
   "metadata": {},
   "source": [
    "K-Nearest Neighbors (KNN) es un algoritmo de clasificación. La idea central es que los puntos de datos con atributos similares tienden a caer en categorías similares.\n",
    "\n",
    "Veamos la imagen de abajo. Esta imagen es complicada, pero por ahora vamos a centrarnos en dónde se colocan los puntos de datos. Cada punto de datos - ya sea de color rojo, verde o blanco - tiene un valor x y un valor y. Como resultado, se puede representar gráficamente. Como resultado, se puede trazar en este gráfico bidimensional."
   ]
  },
  {
   "cell_type": "markdown",
   "metadata": {},
   "source": [
    "![NearestNeighbors](https://raw.githubusercontent.com/vbatiz/intro-ML/main/notebooks/images/nearest_neighbor.gif)"
   ]
  },
  {
   "cell_type": "markdown",
   "metadata": {},
   "source": [
    "A continuación, consideremos el color de los datos. El color representa la clase que el algoritmo K-Nearest Neighbor intenta clasificar. En esta imagen, los puntos de datos pueden tener la clase verde o la clase roja. Si un punto de datos es blanco, significa que aún no tiene clase. El objetivo del algoritmo es clasificar estos puntos desconocidos.\n",
    "\n",
    "Por último, considere el círculo en expansión alrededor del punto blanco. Este círculo busca los k vecinos más cercanos al punto blanco. Cuando k = 3, el círculo es bastante pequeño. Dos de los tres vecinos más cercanos son verdes y uno es rojo. En este caso, el algoritmo clasificaría el punto blanco como verde. Sin embargo, cuando aumentamos k a 5, el círculo se amplía y la clasificación cambia. Tres de los vecinos más cercanos son rojos y dos son verdes, por lo que ahora el punto blanco se clasificará como rojo.\n",
    "\n",
    "Esta es la idea central del algoritmo K-Nearest Neighbor. Si se dispone de un conjunto de datos de puntos cuya clase se conoce, se puede tomar un nuevo punto de clase desconocida, encontrar sus vecinos más cercanos y clasificarlo."
   ]
  },
  {
   "cell_type": "markdown",
   "metadata": {},
   "source": [
    "### Distancia entre puntos - 2D\n",
    "\n",
    "En el primer ejercicio, pudimos visualizar el conjunto de datos y estimar los k vecinos más cercanos de un punto desconocido. Pero eso no lo puede hacer un ordenador.\n",
    "\n",
    "Tenemos que definir qué significa que dos puntos estén cerca o lejos. Para ello, vamos a utilizar la Fórmula de la Distancia."
   ]
  },
  {
   "cell_type": "markdown",
   "metadata": {},
   "source": [
    "En este ejemplo, los datos tienen dos dimensiones:\n",
    "\n",
    "- La duración de la película\n",
    "- La fecha de estreno de la película\n",
    "\n",
    "Consideremos La guerra de las galaxias y En busca del arca perdida. La guerra de las galaxias dura 125 minutos y se estrenó en 1977. En busca del arca perdida dura 115 minutos y se estrenó en 1981.\n",
    "\n",
    "La distancia entre las películas se calcula a continuación:\n",
    "\n",
    "$d = \\sqrt {\\left( {x_1 - x_2 } \\right)^2 + \\left( {y_1 - y_2 } \\right)^2 }$\n",
    "\n",
    "$d = \\sqrt {\\left( {125 - 115 } \\right)^2 + \\left( {1977 - 1981 } \\right)^2 } = 10.77$\n",
    "\n",
    "Creamos la función distancia"
   ]
  },
  {
   "cell_type": "code",
   "execution_count": null,
   "metadata": {},
   "outputs": [],
   "source": [
    "star_wars = [125, 1977]\n",
    "raiders = [115, 1981]\n",
    "mean_girls = [97, 2004]\n",
    "\n",
    "def distance(movie1, movie2):\n",
    "  length_difference = (movie1[0] - movie2[0]) ** 2\n",
    "  year_difference = (movie1[1] - movie2[1]) ** 2\n",
    "  distance = (length_difference+year_difference)**0.5\n",
    "  return distance\n",
    "\n",
    "print(distance(star_wars,raiders))\n",
    "print(distance(star_wars,mean_girls))"
   ]
  },
  {
   "cell_type": "markdown",
   "metadata": {},
   "source": [
    "### Distancia entre puntos - 3D\n",
    "\n",
    "Hacer una predicción de la calificación de las películas basándose únicamente en la duración y la fecha de estreno es bastante limitado. Hay muchos más datos interesantes sobre las películas que podríamos utilizar. Así que añadamos otra dimensión.\n",
    "\n",
    "Digamos que esta tercera dimensión es el presupuesto de la película. Ahora tenemos que encontrar la distancia entre estos dos puntos en tres dimensiones.\n",
    "\n",
    "![3D](https://raw.githubusercontent.com/vbatiz/intro-ML/main/notebooks/images/threed.webp)\n",
    "\n",
    "¿Y si no nos conformamos con tres dimensiones? Por desgracia, resulta bastante difícil visualizar puntos en dimensiones superiores a 3. Pero eso no significa que no podamos hallar la distancia entre ellos.\n",
    "\n",
    "La fórmula generalizada de la distancia entre los puntos A y B es la siguiente:\n",
    "\n",
    "$d = \\sqrt {\\left( {A_1 - B_1 } \\right)^2 + \\left( {A_2 - B_2 } \\right)^2 + ... + \\left( {A_n - B_n } \\right)^2 }$\n",
    "\n",
    "Aquí, $A_1-B_1$ es la diferencia entre la primera característica de cada punto. $A_n-B_n$ es la diferencia entre la última característica de cada punto.\n",
    "\n",
    "Usando esta fórmula, podemos encontrar los K vecinos más cercanos de un punto en un espacio N-dimensional. Ahora podemos utilizar tanta información sobre nuestras películas como queramos."
   ]
  },
  {
   "cell_type": "code",
   "execution_count": null,
   "metadata": {},
   "outputs": [],
   "source": [
    "star_wars = [125, 1977, 11000000]\n",
    "raiders = [115, 1981, 18000000]\n",
    "mean_girls = [97, 2004, 17000000]\n",
    "print(distance(star_wars,raiders))\n",
    "print(distance(star_wars,mean_girls))"
   ]
  },
  {
   "cell_type": "code",
   "execution_count": null,
   "metadata": {},
   "outputs": [],
   "source": [
    "def distance(pt1, pt2):\n",
    "  distance = 0\n",
    "  for i in range(len(pt1)):\n",
    "    distance += (pt1[i] - pt2[i]) ** 2\n",
    "  return distance ** 0.5"
   ]
  },
  {
   "cell_type": "markdown",
   "metadata": {},
   "source": [
    "### Datos con Diferentes Escalas: Normalización\n",
    "\n",
    "Cuando añadimos la dimensión de presupuesto, es posible que se haya dado cuenta de que hay algunos problemas con el aspecto actual de nuestros datos.\n",
    "\n",
    "Consideremos las dos dimensiones de fecha de estreno y presupuesto. La diferencia máxima entre las fechas de estreno de dos películas es de unos 125 años (los hermanos Lumière hacían películas en la década de 1890). Sin embargo, la diferencia entre el presupuesto de dos películas puede ser de millones de dólares.\n",
    "\n",
    "El problema es que la fórmula de la distancia trata todas las dimensiones por igual, independientemente de su escala. Si dos películas se estrenaran con 70 años de diferencia, eso debería ser un gran problema. Sin embargo, ahora mismo, eso equivale exactamente a dos películas que tienen una diferencia de presupuesto de 70 dólares. La diferencia en un año es exactamente igual a la diferencia en un dólar de presupuesto. Es absurdo.\n",
    "\n",
    "Otra forma de pensar en esto es que el presupuesto supera completamente la importancia de todas las demás dimensiones porque es de una escala enorme. El hecho de que dos películas se hicieran con 70 años de diferencia es esencialmente insignificante comparado con la diferencia de millones en la otra dimensión.\n",
    "\n",
    "La solución a este problema es normalizar los datos para que cada valor esté entre 0 y 1. En esta sección, vamos a utilizar la normalización mín-máx.\n",
    "\n",
    "Para ello haremos nuestra propia función para normalizar una lista de números:"
   ]
  },
  {
   "cell_type": "code",
   "execution_count": null,
   "metadata": {},
   "outputs": [],
   "source": [
    "def min_max_normalize(lst):\n",
    "  minimum = min(lst)\n",
    "  maximum = max(lst)\n",
    "  normalized = []\n",
    "  for valor in lst:\n",
    "    valor_normalizado = (valor-minimum)/(maximum-minimum) \n",
    "    normalized.append(valor_normalizado)\n",
    "  return normalized"
   ]
  },
  {
   "cell_type": "markdown",
   "metadata": {},
   "source": [
    "Probemos la función:"
   ]
  },
  {
   "cell_type": "code",
   "execution_count": null,
   "metadata": {},
   "outputs": [],
   "source": [
    "release_dates = [1897, 1998, 2000, 1948, 1962, 1950, 1975, 1960, 2017, 1937, 1968, 1996, 1944, 1891, 1995, 1948, 2011, 1965, 1891, 1978]\n",
    "\n",
    "datos_normalizados = min_max_normalize(release_dates)\n",
    "print(datos_normalizados)"
   ]
  },
  {
   "cell_type": "markdown",
   "metadata": {},
   "source": [
    "### Encontrando los vecinos más próximos (Nearest Neighbors)"
   ]
  },
  {
   "cell_type": "code",
   "execution_count": 1,
   "metadata": {},
   "outputs": [
    {
     "ename": "ModuleNotFoundError",
     "evalue": "No module named 'movies'",
     "output_type": "error",
     "traceback": [
      "\u001b[0;31m---------------------------------------------------------------------------\u001b[0m",
      "\u001b[0;31mModuleNotFoundError\u001b[0m                       Traceback (most recent call last)",
      "Cell \u001b[0;32mIn[1], line 1\u001b[0m\n\u001b[0;32m----> 1\u001b[0m \u001b[38;5;28;01mfrom\u001b[39;00m \u001b[38;5;21;01mmovies\u001b[39;00m \u001b[38;5;28;01mimport\u001b[39;00m movie_dataset, movie_labels\n",
      "\u001b[0;31mModuleNotFoundError\u001b[0m: No module named 'movies'"
     ]
    }
   ],
   "source": [
    "from movies import movie_dataset, movie_labels"
   ]
  }
 ],
 "metadata": {
  "kernelspec": {
   "display_name": "Python 3",
   "language": "python",
   "name": "python3"
  },
  "language_info": {
   "codemirror_mode": {
    "name": "ipython",
    "version": 3
   },
   "file_extension": ".py",
   "mimetype": "text/x-python",
   "name": "python",
   "nbconvert_exporter": "python",
   "pygments_lexer": "ipython3",
   "version": "3.10.13"
  }
 },
 "nbformat": 4,
 "nbformat_minor": 2
}
