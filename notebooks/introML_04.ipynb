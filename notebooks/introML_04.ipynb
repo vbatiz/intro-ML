{
 "cells": [
  {
   "cell_type": "markdown",
   "metadata": {},
   "source": [
    "## KNN K-Nearest Neighbors Classifier"
   ]
  },
  {
   "cell_type": "markdown",
   "metadata": {},
   "source": [
    "K-Nearest Neighbors (KNN) es un algoritmo de clasificación. La idea central es que los puntos de datos con atributos similares tienden a caer en categorías similares.\n",
    "\n",
    "Veamos la imagen de abajo. Esta imagen es complicada, pero por ahora vamos a centrarnos en dónde se colocan los puntos de datos. Cada punto de datos - ya sea de color rojo, verde o blanco - tiene un valor x y un valor y. Como resultado, se puede representar gráficamente. Como resultado, se puede trazar en este gráfico bidimensional."
   ]
  },
  {
   "cell_type": "markdown",
   "metadata": {},
   "source": [
    "![NearestNeighbors](https://raw.githubusercontent.com/vbatiz/intro-ML/main/notebooks/images/nearest_neighbor.gif)"
   ]
  },
  {
   "cell_type": "markdown",
   "metadata": {},
   "source": [
    "A continuación, consideremos el color de los datos. El color representa la clase que el algoritmo K-Nearest Neighbor intenta clasificar. En esta imagen, los puntos de datos pueden tener la clase verde o la clase roja. Si un punto de datos es blanco, significa que aún no tiene clase. El objetivo del algoritmo es clasificar estos puntos desconocidos.\n",
    "\n",
    "Por último, considere el círculo en expansión alrededor del punto blanco. Este círculo busca los k vecinos más cercanos al punto blanco. Cuando k = 3, el círculo es bastante pequeño. Dos de los tres vecinos más cercanos son verdes y uno es rojo. En este caso, el algoritmo clasificaría el punto blanco como verde. Sin embargo, cuando aumentamos k a 5, el círculo se amplía y la clasificación cambia. Tres de los vecinos más cercanos son rojos y dos son verdes, por lo que ahora el punto blanco se clasificará como rojo.\n",
    "\n",
    "Esta es la idea central del algoritmo K-Nearest Neighbor. Si se dispone de un conjunto de datos de puntos cuya clase se conoce, se puede tomar un nuevo punto de clase desconocida, encontrar sus vecinos más cercanos y clasificarlo."
   ]
  },
  {
   "cell_type": "markdown",
   "metadata": {},
   "source": [
    "### Distancia entre puntos - 2D\n",
    "\n",
    "En el primer ejercicio, pudimos visualizar el conjunto de datos y estimar los k vecinos más cercanos de un punto desconocido. Pero eso no lo puede hacer un ordenador.\n",
    "\n",
    "Tenemos que definir qué significa que dos puntos estén cerca o lejos. Para ello, vamos a utilizar la Fórmula de la Distancia."
   ]
  },
  {
   "cell_type": "markdown",
   "metadata": {},
   "source": [
    "En este ejemplo, los datos tienen dos dimensiones:\n",
    "\n",
    "- La duración de la película\n",
    "- La fecha de estreno de la película\n",
    "\n",
    "Consideremos La guerra de las galaxias y En busca del arca perdida. La guerra de las galaxias dura 125 minutos y se estrenó en 1977. En busca del arca perdida dura 115 minutos y se estrenó en 1981.\n",
    "\n",
    "La distancia entre las películas se calcula a continuación:\n",
    "\n",
    "$d = \\sqrt {\\left( {x_1 - x_2 } \\right)^2 + \\left( {y_1 - y_2 } \\right)^2 }$\n",
    "\n",
    "$d = \\sqrt {\\left( {125 - 115 } \\right)^2 + \\left( {1977 - 1981 } \\right)^2 } = 10.77$\n"
   ]
  },
  {
   "cell_type": "code",
   "execution_count": null,
   "metadata": {},
   "outputs": [],
   "source": [
    "star_wars = [125, 1977]\n",
    "raiders = [115, 1981]\n",
    "mean_girls = [97, 2004]\n",
    "\n",
    "def distance(movie1, movie2):\n",
    "  length_difference = (movie1[0] - movie2[0]) ** 2\n",
    "  year_difference = (movie1[1] - movie2[1]) ** 2\n",
    "  distance = (length_difference+year_difference)**0.5\n",
    "  return distance\n",
    "\n",
    "print(distance(star_wars,raiders))\n",
    "print(distance(star_wars,mean_girls))"
   ]
  },
  {
   "cell_type": "code",
   "execution_count": null,
   "metadata": {},
   "outputs": [],
   "source": [
    "def distance(pt1, pt2):\n",
    "  distance = 0\n",
    "  for i in range(len(pt1)):\n",
    "    distance += (pt1[i] - pt2[i]) ** 2\n",
    "  return distance ** 0.5"
   ]
  },
  {
   "cell_type": "code",
   "execution_count": null,
   "metadata": {},
   "outputs": [],
   "source": [
    "star_wars = [125, 1977, 11000000]\n",
    "raiders = [115, 1981, 18000000]\n",
    "mean_girls = [97, 2004, 17000000]\n",
    "print(distance(star_wars,raiders))\n",
    "print(distance(star_wars,mean_girls))"
   ]
  }
 ],
 "metadata": {
  "language_info": {
   "name": "python"
  }
 },
 "nbformat": 4,
 "nbformat_minor": 2
}
