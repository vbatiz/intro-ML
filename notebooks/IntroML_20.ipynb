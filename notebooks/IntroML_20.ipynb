{
  "cells": [
    {
      "cell_type": "markdown",
      "metadata": {
        "id": "mS107InqkKoU"
      },
      "source": [
        "# Ejemplo de Stable Diffusion con Keras-CV\n",
        "\n",
        "\n",
        "Este ejemplo se basa en la versión de Stable Diffusion de [Keras-CV](https://keras.io/guides/keras_cv/generate_images_with_stable_diffusion/)."
      ]
    },
    {
      "cell_type": "markdown",
      "metadata": {
        "id": "ZJFrLeVcqGBI"
      },
      "source": [
        "## Instalamos los paquetes requeridos"
      ]
    },
    {
      "cell_type": "code",
      "execution_count": null,
      "metadata": {
        "id": "BrqwT7Jf8u33"
      },
      "outputs": [],
      "source": [
        "# Ejecutar de ser necesario\n",
        "!pip install --upgrade tensorflow"
      ]
    },
    {
      "cell_type": "code",
      "execution_count": null,
      "metadata": {
        "id": "kPTfk16x7qxO"
      },
      "outputs": [],
      "source": [
        "!pip install --upgrade keras-cv"
      ]
    },
    {
      "cell_type": "markdown",
      "metadata": {
        "id": "cgJK9Z89pJAg"
      },
      "source": [
        "## Cargamos los paquetes necesarios"
      ]
    },
    {
      "cell_type": "code",
      "execution_count": null,
      "metadata": {
        "id": "k1GeoiMV8LLS"
      },
      "outputs": [],
      "source": [
        "import time\n",
        "import keras_cv\n",
        "from tensorflow import keras\n",
        "import matplotlib.pyplot as plt"
      ]
    },
    {
      "cell_type": "markdown",
      "metadata": {
        "id": "RVj8Ax4ts4g3"
      },
      "source": [
        "## Creamos el modelo"
      ]
    },
    {
      "cell_type": "code",
      "execution_count": null,
      "metadata": {
        "id": "ogpkokq28OAg"
      },
      "outputs": [],
      "source": [
        "model = keras_cv.models.StableDiffusion(img_width=512, img_height=512, jit_compile=False)"
      ]
    },
    {
      "cell_type": "markdown",
      "metadata": {
        "id": "wKzp8PWrsUM2"
      },
      "source": [
        "Creamos una función para desplegar las imágenes"
      ]
    },
    {
      "cell_type": "code",
      "execution_count": null,
      "metadata": {
        "id": "tLlYBW3lm-7-"
      },
      "outputs": [],
      "source": [
        "def plot_images(images):\n",
        "    plt.figure(figsize=(20, 20))\n",
        "    for i in range(len(images)):\n",
        "        ax = plt.subplot(1, len(images), i + 1)\n",
        "        plt.imshow(images[i])\n",
        "        plt.axis(\"off\")"
      ]
    },
    {
      "cell_type": "markdown",
      "metadata": {
        "id": "W4W3Ljb4s1vA"
      },
      "source": [
        "## Generamos las imágenes a partir de una serie de prompts"
      ]
    },
    {
      "cell_type": "code",
      "execution_count": null,
      "metadata": {
        "id": "6OKm8CjA8SDh"
      },
      "outputs": [],
      "source": [
        "start = time.time()\n",
        "images = model.text_to_image(\n",
        "    \"cute cats playing with a tennis ball, fantasy art, \"\n",
        "    \"high quality, highly detailed, elegant, sharp focus\",\n",
        "    batch_size=3,\n",
        ")\n",
        "end = time.time()\n",
        "print(f\"Tiempo total: {(end - start):.2f} segundos\")\n",
        "plot_images(images)"
      ]
    },
    {
      "cell_type": "code",
      "execution_count": null,
      "metadata": {
        "id": "1NMu4p21NqN0"
      },
      "outputs": [],
      "source": [
        "start = time.time()\n",
        "images = model.text_to_image(\"an astronaut in a sunflower field\", batch_size=3)\n",
        "end = time.time()\n",
        "print(f\"Tiempo total: {(end - start):.2f} segundos\")\n",
        "plot_images(images)"
      ]
    },
    {
      "cell_type": "code",
      "execution_count": null,
      "metadata": {
        "id": "wOO4ZE_rcNfS"
      },
      "outputs": [],
      "source": [
        "plt.imshow(images[0])"
      ]
    },
    {
      "cell_type": "code",
      "execution_count": null,
      "metadata": {
        "id": "JU_P69aRd4mJ"
      },
      "outputs": [],
      "source": [
        "plt.imsave('Resultado.jpg',images[0])"
      ]
    }
  ],
  "metadata": {
    "accelerator": "GPU",
    "colab": {
      "provenance": []
    },
    "gpuClass": "standard",
    "kernelspec": {
      "display_name": "Python 3",
      "name": "python3"
    },
    "language_info": {
      "name": "python"
    }
  },
  "nbformat": 4,
  "nbformat_minor": 0
}
