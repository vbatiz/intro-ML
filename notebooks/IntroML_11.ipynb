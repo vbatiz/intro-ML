{
  "cells": [
    {
      "cell_type": "markdown",
      "metadata": {
        "id": "mtRQmtwVfrf3"
      },
      "source": [
        "# XOR utilizando redes neuronales con Tensorflow y Keras."
      ]
    },
    {
      "cell_type": "markdown",
      "metadata": {
        "id": "lMTAXpOkfrf6"
      },
      "source": [
        "## Cargamos las bibliotecas a utilizar"
      ]
    },
    {
      "cell_type": "code",
      "execution_count": null,
      "metadata": {
        "id": "mxRWfD_Ffrf6"
      },
      "outputs": [],
      "source": [
        "# TensorFlow y tf.keras\n",
        "import tensorflow as tf\n",
        "from tensorflow import keras\n",
        "\n",
        "import numpy as np\n",
        "from keras.models import Sequential\n",
        "from keras.layers import Dense"
      ]
    },
    {
      "cell_type": "markdown",
      "metadata": {
        "id": "V8jPjNRdfrf8"
      },
      "source": [
        "## Construimos el conjunto de datos"
      ]
    },
    {
      "cell_type": "code",
      "execution_count": null,
      "metadata": {
        "id": "Sg3WdVk8frf8"
      },
      "outputs": [],
      "source": [
        "# Los cuatro estados de la compuerta XOR\n",
        "training_data = np.array([[0,0],[0,1],[1,0],[1,1]], \"float32\")\n",
        "\n",
        "# Los cuatro resultados esperados en el mismo orden\n",
        "target_data = np.array([[0],[1],[1],[0]], \"float32\")"
      ]
    },
    {
      "cell_type": "markdown",
      "metadata": {
        "id": "iXo4df3vfrf8"
      },
      "source": [
        "## Construimos el modelo de redes neuronales"
      ]
    },
    {
      "cell_type": "code",
      "execution_count": null,
      "metadata": {
        "id": "iDYZlsFYfrf8"
      },
      "outputs": [],
      "source": [
        "model = Sequential()\n",
        "model.add(Dense(16, input_dim=2, activation='relu'))\n",
        "model.add(Dense(1, activation='sigmoid'))\n",
        "\n",
        "model.compile(loss='mean_squared_error',\n",
        "              optimizer='adam',\n",
        "              metrics=['binary_accuracy'])"
      ]
    },
    {
      "cell_type": "markdown",
      "metadata": {
        "id": "fo9VOHSvfrf9"
      },
      "source": [
        "## Entrenamos el modelo"
      ]
    },
    {
      "cell_type": "code",
      "execution_count": null,
      "metadata": {
        "id": "j3Ie-pzEfrf9"
      },
      "outputs": [],
      "source": [
        "model.fit(training_data, target_data, epochs=500, verbose=2)"
      ]
    },
    {
      "cell_type": "markdown",
      "metadata": {
        "id": "F1vjIa2Bfrf9"
      },
      "source": [
        "## Realizamos las predicciones"
      ]
    },
    {
      "cell_type": "code",
      "execution_count": null,
      "metadata": {
        "id": "0QdA8Fnhfrf9"
      },
      "outputs": [],
      "source": [
        "print(model.predict(training_data).round())"
      ]
    }
  ],
  "metadata": {
    "kernelspec": {
      "display_name": "Python 3",
      "language": "python",
      "name": "python3"
    },
    "language_info": {
      "codemirror_mode": {
        "name": "ipython",
        "version": 3
      },
      "file_extension": ".py",
      "mimetype": "text/x-python",
      "name": "python",
      "nbconvert_exporter": "python",
      "pygments_lexer": "ipython3",
      "version": "3.10.13"
    },
    "colab": {
      "provenance": []
    }
  },
  "nbformat": 4,
  "nbformat_minor": 0
}