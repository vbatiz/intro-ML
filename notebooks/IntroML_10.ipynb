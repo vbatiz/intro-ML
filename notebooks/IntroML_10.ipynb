{
  "cells": [
    {
      "cell_type": "markdown",
      "metadata": {
        "id": "voJa1Z15CX02"
      },
      "source": [
        "## **El perceptrón**\n",
        "\n",
        "El percetrón fue publicado por primera vez por [Frank Rosenblatt](https://es.wikipedia.org/wiki/Frank_Rosenblatt) en 1957. Rosenblatt propuso una regla que podía determinar automáticamente los pesos para cada una de las características de entrada de la neurona artificial; utilizando **aprendizaje supervisado** para determinar un límite o frontera de decisión entre dos clases binarias.\n",
        "\n",
        "El percetrón clasifica las entradas, encontrando el producto punto de un vector de características de entrada y un vector de pesos y pasando este resultado a una función de activación escalón o *step*, la cual regresará 1 si el valor es mayor que cero y regresará 0 en caso contrario.\n",
        "\n",
        "Para determinar los pesos, la regla de aprendizaje del percetrón realiza lo siguiente:\n",
        "\n",
        "1. Predice una salida basándose en los pesos y entradas actuales.\n",
        "2. Compara la salida contra la salida esperada o etiqueta (*label*).\n",
        "3. Si la predicción es diferente de la salida esperada, actualiza los pesos.\n",
        "4. Continua iterando hasta que se alcanza el número de épocas establecidas.\n",
        "\n",
        "Para actualizar los pesos en cada iteración:\n",
        "\n",
        "1. Encuentra el error restando la predicción de la salida esperada.\n",
        "2. Multiplica el error por la tasa de aprendizaje (*learning rate*).\n",
        "3. Multiplica el resultado con las entradas.\n",
        "4. Agrega el vector resultante al vector de pesos.\n",
        "\n",
        "Veremos a continuación la implementación del algoritmo del Perceptrón para resolver la compuerta lógica AND.\n",
        "\n",
        "A continuación se ilustra la configuración básica del perceptrón:\n",
        "<img src=\"https://www.thomascountz.com/assets/images/neural-network.png\" style=\"width:400px;height:182px;\">\n"
      ]
    },
    {
      "cell_type": "markdown",
      "metadata": {
        "id": "CunXVitLGHc0"
      },
      "source": [
        "De acuerdo con la teoría que hemos ya revisado, tenemos dos fórmulas muy relevantes para implementar y describir al perceptrón:\n",
        "```\n",
        "**Función de activación**\n",
        "f(x) = 1 if w · x + b > 0\n",
        "       0 otherwise\n",
        "**Regla de actualización de los pesos**\n",
        "w <- w + α * (y - f(x)) * x\n",
        "```"
      ]
    },
    {
      "cell_type": "markdown",
      "metadata": {
        "id": "d0sc78-QEON_"
      },
      "source": [
        "Utilizaremos para este ejercicio la clase Perceptron obtenida de: https://www.thomascountz.com/2018/04/05/19-line-line-by-line-python-perceptron, se le han agregado comentarios y algunos cambios para hacerla más entendible."
      ]
    },
    {
      "cell_type": "code",
      "execution_count": null,
      "metadata": {
        "colab": {
          "base_uri": "https://localhost:8080/"
        },
        "id": "DFODJ34uSdL_",
        "outputId": "35e4802a-3b08-4518-8ccc-8243ec8ab8d7"
      },
      "outputs": [],
      "source": [
        "#Celda de código solo para mostrar el uso de np.zeros y np.random.uniform\n",
        "import numpy as np\n",
        "num_de_elementos = 4\n",
        "vector_ceros = np.zeros(num_de_elementos)\n",
        "vector_aleatorios = np.array(np.random.uniform(-0.5, 0.5, num_de_elementos))\n",
        "print(vector_ceros)\n",
        "print(vector_aleatorios)\n",
        "print(np.random.uniform(1, 20, num_de_elementos))"
      ]
    },
    {
      "cell_type": "code",
      "execution_count": null,
      "metadata": {
        "id": "pM6ZkbQIAhW1"
      },
      "outputs": [],
      "source": [
        "\"\"\"\n",
        "MIT License\n",
        "\n",
        "Copyright (c) 2018 Thomas Countz\n",
        "\n",
        "Permission is hereby granted, free of charge, to any person obtaining a copy\n",
        "of this software and associated documentation files (the \"Software\"), to deal\n",
        "in the Software without restriction, including without limitation the rights\n",
        "to use, copy, modify, merge, publish, distribute, sublicense, and/or sell\n",
        "copies of the Software, and to permit persons to whom the Software is\n",
        "furnished to do so, subject to the following conditions:\n",
        "\n",
        "The above copyright notice and this permission notice shall be included in all\n",
        "copies or substantial portions of the Software.\n",
        "\n",
        "THE SOFTWARE IS PROVIDED \"AS IS\", WITHOUT WARRANTY OF ANY KIND, EXPRESS OR\n",
        "IMPLIED, INCLUDING BUT NOT LIMITED TO THE WARRANTIES OF MERCHANTABILITY,\n",
        "FITNESS FOR A PARTICULAR PURPOSE AND NONINFRINGEMENT. IN NO EVENT SHALL THE\n",
        "AUTHORS OR COPYRIGHT HOLDERS BE LIABLE FOR ANY CLAIM, DAMAGES OR OTHER\n",
        "LIABILITY, WHETHER IN AN ACTION OF CONTRACT, TORT OR OTHERWISE, ARISING FROM,\n",
        "OUT OF OR IN CONNECTION WITH THE SOFTWARE OR THE USE OR OTHER DEALINGS IN THE\n",
        "SOFTWARE.\n",
        "\"\"\"\n",
        "\n",
        "#Importamos la biblioteca numpy para el manejo de vectores y matrices\n",
        "import numpy as np\n",
        "\n",
        "#Clase que nos servirá para emular el funcionamiento del Perceptrón\n",
        "#Recibe como párametros:\n",
        "\n",
        "#no_of_inputs = número de elementos de entrada\n",
        "#epochs = número de épocas máximo que se ejecutarán\n",
        "#learning_rate = factor de la tasa de aprendizaje que utilizaremos\n",
        "#                para actualizar los pesos\n",
        "class Perceptron(object):\n",
        "    #Constructor de la clase\n",
        "    def __init__(self, no_of_inputs, epochs=100, learning_rate=0.01):\n",
        "        self.epochs = epochs\n",
        "        self.learning_rate = learning_rate\n",
        "        #Se inicializan los pesos (experimente inicializándolos en 0 o de manera\n",
        "        # aleatoria), en la primera posición estará el peso del\n",
        "        #Sesgo o Bias, a partir de la posición 1 estarán los pesos de\n",
        "        #las entradas:\n",
        "        self.weights = np.zeros(no_of_inputs + 1)\n",
        "        #self.weights = np.array(np.random.uniform(-0.5, 0.5, no_of_inputs + 1))\n",
        "\n",
        "    #Función de activación, utiliza numpy para multiplicar las entradas\n",
        "    #por los pesos y sumar la variable de sesgo (bias)\n",
        "    def predict(self, inputs):\n",
        "        summation = np.dot(inputs, self.weights[1:]) + self.weights[0]\n",
        "        if summation > 0:\n",
        "          activation = 1\n",
        "        else:\n",
        "          activation = 0\n",
        "        return activation\n",
        "    #Función que realizará el proceso de entrenamiento por el número de épocas\n",
        "    #que se haya definido.\n",
        "    #Actualiza los pesos tras cada iteración\n",
        "    def train(self, training_inputs, labels):\n",
        "        for e in range(self.epochs):\n",
        "            print('---------- Época: {} ---------- '.format(e+1))\n",
        "            for inputs, label in zip(training_inputs, labels):\n",
        "                prediction = self.predict(inputs)\n",
        "                print('Entradas: ', inputs, 'Pesos:', self.weights, 'Salida esperada: ', label, 'Salida obtenida: ',\n",
        "                      prediction)\n",
        "                #Actualizamos los pesos de las entradas\n",
        "                self.weights[1:] += self.learning_rate * (label - prediction) * inputs\n",
        "                #Actualizamos el peso del sesgo (bias)\n",
        "                self.weights[0] += self.learning_rate * (label - prediction)\n"
      ]
    },
    {
      "cell_type": "markdown",
      "metadata": {
        "id": "ACkOCj-fIaDz"
      },
      "source": [
        "##**Ejemplo**"
      ]
    },
    {
      "cell_type": "markdown",
      "metadata": {
        "id": "3gKzl21aH1XT"
      },
      "source": [
        "Uso de la clase Perceptrón para resolver la compuerta lógica **AND**\n",
        "```\n",
        "# Tabla de verdad\n",
        " A   B  | AND\n",
        "--- --- |-----\n",
        " 1   1  |  1\n",
        " 1   0  |  0\n",
        " 0   1  |  0\n",
        " 0   0  |  0\n",
        "```\n",
        "\n"
      ]
    },
    {
      "cell_type": "code",
      "execution_count": null,
      "metadata": {
        "id": "ws6E8RRVIxjR"
      },
      "outputs": [],
      "source": [
        "import numpy as np\n",
        "#La siguiente línea la usaríamos si la clase Perceptron estuviera en un archivo\n",
        "#separado\n",
        "#from perceptron import Perceptron"
      ]
    },
    {
      "cell_type": "markdown",
      "metadata": {
        "id": "Ca68owbPI_cV"
      },
      "source": [
        "Generamos nuestros datos de entrenamiento. Las entradas son las columnas A y B de la tabla de verdad de la compuerta lógica AND, las almacenaremos en un arreglo de arreglos `numpy`, al que llamaremos `training_inputs`."
      ]
    },
    {
      "cell_type": "code",
      "execution_count": null,
      "metadata": {
        "colab": {
          "base_uri": "https://localhost:8080/"
        },
        "id": "YZMbF_72I8b2",
        "outputId": "bce79e4c-283f-4c09-a00d-5e92bbe63058"
      },
      "outputs": [],
      "source": [
        "training_inputs = []\n",
        "training_inputs.append(np.array([1, 1]))\n",
        "training_inputs.append(np.array([1, 0]))\n",
        "training_inputs.append(np.array([0, 1]))\n",
        "training_inputs.append(np.array([0, 0]))\n",
        "print(training_inputs)"
      ]
    },
    {
      "cell_type": "markdown",
      "metadata": {
        "id": "LKTj7U1zJuwx"
      },
      "source": [
        "Almacenaremos las salidas esperadas o etiquetas para cada par de entradas en una variable que llamaremos `labels`. **Es importante asegurarse que las etiquetas correspondan adecuadamente con las entradas**."
      ]
    },
    {
      "cell_type": "code",
      "execution_count": null,
      "metadata": {
        "colab": {
          "base_uri": "https://localhost:8080/"
        },
        "id": "FbumbIruKEMt",
        "outputId": "bc8e99ac-db8f-4ee2-87c9-143c846821f1"
      },
      "outputs": [],
      "source": [
        "labels = np.array([1, 0, 0, 0])\n",
        "print(labels)"
      ]
    },
    {
      "cell_type": "markdown",
      "metadata": {
        "id": "vPAk8ciAKO59"
      },
      "source": [
        "Creamos una instancia de la clase `Perceptron` y le indicamos el número de entradas y las épocas, dejando la tasa de aprendizaje por defecto."
      ]
    },
    {
      "cell_type": "code",
      "execution_count": null,
      "metadata": {
        "id": "tCATIV-FKGkD"
      },
      "outputs": [],
      "source": [
        "perceptron = Perceptron(2)"
      ]
    },
    {
      "cell_type": "markdown",
      "metadata": {
        "id": "HqhC6lSbKty5"
      },
      "source": [
        "A continuación iniciamos el entrenamiento del perceptrón ejecutando el método `train` indicándole como parámetros nuestras variables que contienen las entradas y las etiquetas de las miemas.."
      ]
    },
    {
      "cell_type": "code",
      "execution_count": null,
      "metadata": {
        "colab": {
          "base_uri": "https://localhost:8080/"
        },
        "id": "ng1TN6_HKera",
        "outputId": "9c706de2-b0b3-4c53-a06e-348931b8637a"
      },
      "outputs": [],
      "source": [
        "perceptron.train(training_inputs, labels)"
      ]
    },
    {
      "cell_type": "markdown",
      "metadata": {
        "id": "8IeD3A7mLTUi"
      },
      "source": [
        "El entrenamiento debe terminar muy rápido, ya que nuestros datos de entrenamiento son muy pocos y `numpy` es muy eficiente. Una vez terminado el entrenamiento, estamos listos para usar nuestro perceptrón como una compuerta lógica AND."
      ]
    },
    {
      "cell_type": "code",
      "execution_count": null,
      "metadata": {
        "colab": {
          "base_uri": "https://localhost:8080/"
        },
        "id": "CJ6uw2eHL6QZ",
        "outputId": "8fdbdc4c-66b6-4778-b4bb-59dc3372c3fb"
      },
      "outputs": [],
      "source": [
        "inputs = np.array([1, 1])\n",
        "perceptron.predict(inputs)\n",
        "#=> 1"
      ]
    },
    {
      "cell_type": "code",
      "execution_count": null,
      "metadata": {
        "colab": {
          "base_uri": "https://localhost:8080/"
        },
        "id": "RTbQuUjuMHTa",
        "outputId": "84ed2eda-1fd5-4bc8-d232-9c27208cb6fe"
      },
      "outputs": [],
      "source": [
        "inputs = np.array([0, 1])\n",
        "perceptron.predict(inputs)\n",
        "#=> 0"
      ]
    },
    {
      "cell_type": "code",
      "execution_count": null,
      "metadata": {
        "colab": {
          "base_uri": "https://localhost:8080/"
        },
        "id": "ZcbvKVm5MLIw",
        "outputId": "21b39e9c-17c7-4998-f997-a176593baeaf"
      },
      "outputs": [],
      "source": [
        "inputs = np.array([0, 0])\n",
        "perceptron.predict(inputs)\n",
        "#=> 0"
      ]
    },
    {
      "cell_type": "code",
      "execution_count": null,
      "metadata": {
        "colab": {
          "base_uri": "https://localhost:8080/"
        },
        "id": "hCpjAJBLMLVh",
        "outputId": "b42aab45-2a05-4981-afce-c250d61b94e6"
      },
      "outputs": [],
      "source": [
        "inputs = np.array([1, 0])\n",
        "perceptron.predict(inputs)\n",
        "#=> 0"
      ]
    },
    {
      "cell_type": "markdown",
      "metadata": {
        "id": "iLN2AezYgvrV"
      },
      "source": [
        "**Nota:**\n",
        "Con pesos aleatorios de arranque llegamos a la solución en la época 35 en nuestro ejemplo:\n",
        "\n",
        "Los pesos finales fueron:\n",
        "[-0.11462999  0.10490984  0.0154394]\n",
        "\n",
        "Con pesos inicializados en cero llegamos a la solución en la época 6 en nuestro ejemplo.\n",
        "\n",
        "Los pesos finales fueron: [-0.02  0.01  0.02]\n"
      ]
    },
    {
      "cell_type": "markdown",
      "metadata": {
        "id": "Ir2yxGjEXNHX"
      },
      "source": [
        "## **Ejercicio extra**\n",
        "\n",
        "Realizar el entrenamiento de la red neuronal para que pueda resolver la compuerta lógica **OR**.\n",
        "\n",
        "```\n",
        "# Tabla de verdad\n",
        " A   B  | OR\n",
        "--- --- |-----\n",
        " 1   1  |  1\n",
        " 1   0  |  1\n",
        " 0   1  |  1\n",
        " 0   0  |  0\n",
        "```\n",
        "\n",
        "\n"
      ]
    },
    {
      "cell_type": "markdown",
      "metadata": {
        "id": "pkjMfQhLXlz4"
      },
      "source": [
        "1.-Definir el *dataset* de entrada y las etiquetas del mismo."
      ]
    },
    {
      "cell_type": "code",
      "execution_count": null,
      "metadata": {
        "id": "Mj6cUy3LXkzw"
      },
      "outputs": [],
      "source": [
        "#Dataset de entrenamiento\n",
        "valores_entrenamiento = []\n",
        "valores_entrenamiento.append(np.array([1, 1]))\n",
        "valores_entrenamiento.append(np.array([1, 0]))\n",
        "valores_entrenamiento.append(np.array([0, 1]))\n",
        "valores_entrenamiento.append(np.array([0, 0]))\n",
        "print(valores_entrenamiento)"
      ]
    },
    {
      "cell_type": "code",
      "execution_count": null,
      "metadata": {
        "id": "3UCvOOlcYPjs"
      },
      "outputs": [],
      "source": [
        "#Etiquetas\n",
        "etiquetas = np.array([1, 1, 1, 0])\n",
        "print(etiquetas)"
      ]
    },
    {
      "cell_type": "code",
      "execution_count": null,
      "metadata": {
        "id": "YoR83Rw5njTf"
      },
      "outputs": [],
      "source": [
        "perceptron_or = Perceptron(2)"
      ]
    },
    {
      "cell_type": "code",
      "execution_count": null,
      "metadata": {
        "id": "Hv1KH2eMn1IY"
      },
      "outputs": [],
      "source": [
        "perceptron_or.train(valores_entrenamiento, etiquetas)"
      ]
    },
    {
      "cell_type": "code",
      "execution_count": null,
      "metadata": {
        "id": "L4tE1-Rgobua"
      },
      "outputs": [],
      "source": [
        "#Predecir\n",
        "inputs = np.array([1, 0])\n",
        "perceptron_or.predict(inputs)"
      ]
    }
  ],
  "metadata": {
    "colab": {
      "provenance": []
    },
    "kernelspec": {
      "display_name": "Python 3",
      "name": "python3"
    }
  },
  "nbformat": 4,
  "nbformat_minor": 0
}
