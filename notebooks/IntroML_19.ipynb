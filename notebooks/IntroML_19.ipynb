{
  "cells": [
    {
      "cell_type": "markdown",
      "metadata": {},
      "source": [
        "# Ejemplo de análisis de sentimiento utilizando la biblioteca TextBlob"
      ]
    },
    {
      "cell_type": "markdown",
      "metadata": {},
      "source": [
        "## Instalamos el paquete de traducción"
      ]
    },
    {
      "cell_type": "code",
      "execution_count": null,
      "metadata": {
        "colab": {
          "base_uri": "https://localhost:8080/"
        },
        "id": "uvSJ6eLWi624",
        "outputId": "6bfcfaa8-994f-4383-f7c7-32a5ef9674dc"
      },
      "outputs": [],
      "source": [
        "!pip install googletrans==3.1.0a0"
      ]
    },
    {
      "cell_type": "markdown",
      "metadata": {},
      "source": [
        "## Cargamos los paquetes a utilizar"
      ]
    },
    {
      "cell_type": "code",
      "execution_count": null,
      "metadata": {
        "id": "8QVBoex2gkis"
      },
      "outputs": [],
      "source": [
        "from textblob import TextBlob\n",
        "from googletrans import Translator, constants"
      ]
    },
    {
      "cell_type": "markdown",
      "metadata": {},
      "source": [
        "## Función para realizar la predicción clasificación de la polaridad de un texto (contenido positivo/neutro/negativo)"
      ]
    },
    {
      "cell_type": "code",
      "execution_count": null,
      "metadata": {
        "id": "ip5IwNApigS6"
      },
      "outputs": [],
      "source": [
        "def sentimiento(texto):\n",
        "        # Inicializa la API Google API translator\n",
        "        translator = Translator()\n",
        "        translation = translator.translate(texto, src=\"es\", dest=\"en\")\n",
        "        analysis_ready = TextBlob(translation.text)\n",
        "        if analysis_ready.sentiment.polarity > 0:\n",
        "            return 'positivo'\n",
        "        elif analysis_ready.sentiment.polarity == 0:\n",
        "            return 'neutral'\n",
        "        else:\n",
        "            return 'negativo'"
      ]
    },
    {
      "cell_type": "markdown",
      "metadata": {},
      "source": [
        "## Probando el modelo"
      ]
    },
    {
      "cell_type": "code",
      "execution_count": null,
      "metadata": {
        "colab": {
          "base_uri": "https://localhost:8080/"
        },
        "id": "xXbctq4JjRjo",
        "outputId": "d15645f4-1465-4363-9e07-267702397585"
      },
      "outputs": [],
      "source": [
        "print(sentimiento(\"hoy me siento muy feliz\"))\n",
        "print(sentimiento(\"me siento muy triste\"))"
      ]
    }
  ],
  "metadata": {
    "colab": {
      "provenance": []
    },
    "kernelspec": {
      "display_name": "Python 3",
      "name": "python3"
    },
    "language_info": {
      "name": "python"
    }
  },
  "nbformat": 4,
  "nbformat_minor": 0
}
