{
  "nbformat": 4,
  "nbformat_minor": 0,
  "metadata": {
    "colab": {
      "provenance": []
    },
    "kernelspec": {
      "name": "python3",
      "display_name": "Python 3"
    },
    "language_info": {
      "name": "python"
    }
  },
  "cells": [
    {
      "cell_type": "code",
      "execution_count": null,
      "metadata": {
        "id": "3kSZBvyWo3L9"
      },
      "outputs": [],
      "source": [
        "import matplotlib.pyplot as plt\n",
        "import numpy as np\n",
        "from sklearn import datasets, metrics, svm\n",
        "from sklearn.model_selection import train_test_split"
      ]
    },
    {
      "cell_type": "code",
      "source": [
        "digits = datasets.load_digits()"
      ],
      "metadata": {
        "id": "7B7i-5gVpRyo"
      },
      "execution_count": null,
      "outputs": []
    },
    {
      "cell_type": "code",
      "source": [
        "digits.keys()"
      ],
      "metadata": {
        "colab": {
          "base_uri": "https://localhost:8080/"
        },
        "id": "BOF7nslPqDV8",
        "outputId": "03193d1a-3e11-44f1-dd0f-e24a09d52690"
      },
      "execution_count": null,
      "outputs": [
        {
          "output_type": "execute_result",
          "data": {
            "text/plain": [
              "dict_keys(['data', 'target', 'frame', 'feature_names', 'target_names', 'images', 'DESCR'])"
            ]
          },
          "metadata": {},
          "execution_count": 6
        }
      ]
    },
    {
      "cell_type": "code",
      "source": [
        "plt.gray()\n",
        "plt.matshow(digits.images[50])\n",
        "plt.show()\n",
        "print(\"La clase real es un: \", digits.target[50])"
      ],
      "metadata": {
        "colab": {
          "base_uri": "https://localhost:8080/",
          "height": 473
        },
        "id": "ZPrySwaMtAIV",
        "outputId": "06b8b583-0941-465b-ae42-bd663f15bdc0"
      },
      "execution_count": null,
      "outputs": [
        {
          "output_type": "display_data",
          "data": {
            "text/plain": [
              "<Figure size 640x480 with 0 Axes>"
            ]
          },
          "metadata": {}
        },
        {
          "output_type": "display_data",
          "data": {
            "text/plain": [
              "<Figure size 480x480 with 1 Axes>"
            ],
            "image/png": "[encoded data removed]"
          },
          "metadata": {}
        },
        {
          "output_type": "stream",
          "name": "stdout",
          "text": [
            "La clase real es un:  2\n"
          ]
        }
      ]
    },
    {
      "cell_type": "code",
      "source": [
        "digits['target']"
      ],
      "metadata": {
        "colab": {
          "base_uri": "https://localhost:8080/"
        },
        "id": "QUL2Xe1Mqj9t",
        "outputId": "c28662de-7e9d-477d-ed9a-e152cda796e2"
      },
      "execution_count": null,
      "outputs": [
        {
          "output_type": "execute_result",
          "data": {
            "text/plain": [
              "array([0, 1, 2, ..., 8, 9, 8])"
            ]
          },
          "metadata": {},
          "execution_count": 13
        }
      ]
    },
    {
      "cell_type": "code",
      "source": [
        "digits.images.shape"
      ],
      "metadata": {
        "colab": {
          "base_uri": "https://localhost:8080/"
        },
        "id": "FpJALL-dpbgQ",
        "outputId": "befd6c68-e3c9-4352-9616-05e5e6a01ed0"
      },
      "execution_count": null,
      "outputs": [
        {
          "output_type": "execute_result",
          "data": {
            "text/plain": [
              "(1797, 8, 8)"
            ]
          },
          "metadata": {},
          "execution_count": 10
        }
      ]
    },
    {
      "cell_type": "code",
      "source": [
        "n_ejemplos = len(digits.images)\n",
        "print(n_ejemplos)"
      ],
      "metadata": {
        "colab": {
          "base_uri": "https://localhost:8080/"
        },
        "id": "TmNSiNkkq51D",
        "outputId": "6182e705-697e-477a-a208-f922732e00f8"
      },
      "execution_count": null,
      "outputs": [
        {
          "output_type": "stream",
          "name": "stdout",
          "text": [
            "1797\n"
          ]
        }
      ]
    },
    {
      "cell_type": "code",
      "source": [
        "# flatten\n",
        "data = digits.images.reshape((n_ejemplos, -1))\n",
        "data.shape\n",
        "\n",
        "#Crear nuestro clasificador\n",
        "clasificador = svm.SVC(gamma=0.001)\n",
        "X_train, X_test, y_train, y_test = train_test_split(data, digits.target, test_size=0.25, shuffle=False)\n",
        "clasificador.fit(X_train, y_train)\n",
        "\n",
        "predicted = clasificador.predict(X_test)"
      ],
      "metadata": {
        "id": "9lSuWYAwriKr"
      },
      "execution_count": null,
      "outputs": []
    },
    {
      "cell_type": "code",
      "source": [
        "print(metrics.classification_report(y_test,predicted))\n",
        "print(f\"Matriz de confusión:\\n{metrics.confusion_matrix(y_test,predicted)}\")\n"
      ],
      "metadata": {
        "colab": {
          "base_uri": "https://localhost:8080/"
        },
        "id": "oeBYimKXwX1L",
        "outputId": "f38eb473-7f23-4423-ef3b-1eb131169a2b"
      },
      "execution_count": null,
      "outputs": [
        {
          "output_type": "stream",
          "name": "stdout",
          "text": [
            "              precision    recall  f1-score   support\n",
            "\n",
            "           0       1.00      0.98      0.99        43\n",
            "           1       0.98      1.00      0.99        46\n",
            "           2       1.00      1.00      1.00        43\n",
            "           3       0.98      0.85      0.91        47\n",
            "           4       0.98      0.94      0.96        48\n",
            "           5       0.94      0.98      0.96        45\n",
            "           6       0.98      1.00      0.99        47\n",
            "           7       0.98      1.00      0.99        45\n",
            "           8       0.89      0.98      0.93        41\n",
            "           9       0.96      0.96      0.96        45\n",
            "\n",
            "    accuracy                           0.97       450\n",
            "   macro avg       0.97      0.97      0.97       450\n",
            "weighted avg       0.97      0.97      0.97       450\n",
            "\n",
            "Matriz de confusión:\n",
            "[[42  0  0  0  1  0  0  0  0  0]\n",
            " [ 0 46  0  0  0  0  0  0  0  0]\n",
            " [ 0  0 43  0  0  0  0  0  0  0]\n",
            " [ 0  0  0 40  0  2  0  1  4  0]\n",
            " [ 0  0  0  0 45  0  0  0  1  2]\n",
            " [ 0  0  0  0  0 44  1  0  0  0]\n",
            " [ 0  0  0  0  0  0 47  0  0  0]\n",
            " [ 0  0  0  0  0  0  0 45  0  0]\n",
            " [ 0  1  0  0  0  0  0  0 40  0]\n",
            " [ 0  0  0  1  0  1  0  0  0 43]]\n"
          ]
        }
      ]
    },
    {
      "cell_type": "code",
      "source": [
        "disp = metrics.ConfusionMatrixDisplay.from_predictions(y_test, predicted)\n",
        "disp.figure_.suptitle(\"Matriz de confusión\")\n",
        "#print(f\"Matriz de confusión:\\n{disp.confusion_matrix}\")\n",
        "plt.show()"
      ],
      "metadata": {
        "colab": {
          "base_uri": "https://localhost:8080/",
          "height": 497
        },
        "id": "3Emspj_p1pVM",
        "outputId": "8048a8a1-8bc2-4256-e27f-5d437959d8c9"
      },
      "execution_count": null,
      "outputs": [
        {
          "output_type": "display_data",
          "data": {
            "text/plain": [
              "<Figure size 640x480 with 2 Axes>"
            ],
            "image/png": "[encoded data removed]"
          },
          "metadata": {}
        }
      ]
    },
    {
      "cell_type": "code",
      "source": [
        "print(\"Valor real: \", y_test[150])\n",
        "print(\"Valor predicho: \",predicted[150])"
      ],
      "metadata": {
        "colab": {
          "base_uri": "https://localhost:8080/"
        },
        "id": "MJSMxyhkt2EG",
        "outputId": "d5c9db4f-5ef5-45c0-8233-435070e8caf3"
      },
      "execution_count": null,
      "outputs": [
        {
          "output_type": "stream",
          "name": "stdout",
          "text": [
            "Valor real:  6\n",
            "Valor predicho:  6\n"
          ]
        }
      ]
    },
    {
      "cell_type": "code",
      "source": [
        "imagenes = X_test.reshape((len(X_test), 8, 8))\n",
        "plt.gray()\n",
        "plt.matshow(imagenes[150])\n",
        "plt.show()"
      ],
      "metadata": {
        "colab": {
          "base_uri": "https://localhost:8080/",
          "height": 455
        },
        "id": "w4IgcvEtufgU",
        "outputId": "6ff1569a-3fe6-44de-f430-dda36031dc76"
      },
      "execution_count": null,
      "outputs": [
        {
          "output_type": "display_data",
          "data": {
            "text/plain": [
              "<Figure size 640x480 with 0 Axes>"
            ]
          },
          "metadata": {}
        },
        {
          "output_type": "display_data",
          "data": {
            "text/plain": [
              "<Figure size 480x480 with 1 Axes>"
            ],
            "image/png": "[encoded data removed]"
          },
          "metadata": {}
        }
      ]
    },
    {
      "cell_type": "code",
      "source": [],
      "metadata": {
        "id": "9dKtn7xguTV7"
      },
      "execution_count": null,
      "outputs": []
    }
  ]
}