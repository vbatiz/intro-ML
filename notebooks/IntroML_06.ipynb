{
  "cells": [
    {
      "cell_type": "markdown",
      "metadata": {},
      "source": [
        "## KNN para Regresión"
      ]
    },
    {
      "cell_type": "markdown",
      "metadata": {},
      "source": [
        "Los siguientes son los pasos para la Regresión K-NN:\n",
        "\n",
        "1. Encontrar los k vecinos más cercanos basados en distancias para x.\n",
        "2. Promediar la salida de los K vecinos más cercanos de x."
      ]
    },
    {
      "cell_type": "markdown",
      "metadata": {},
      "source": [
        "### Importamos las bibliotecas necesarias"
      ]
    },
    {
      "cell_type": "code",
      "execution_count": 1,
      "metadata": {
        "id": "uO1PqbmbeqZ0"
      },
      "outputs": [],
      "source": [
        "import numpy as np\n",
        "import pandas as pd\n",
        "import matplotlib.pyplot as plt\n",
        "from sklearn.neighbors import KNeighborsRegressor\n",
        "from sklearn.model_selection import train_test_split\n",
        "from sklearn.metrics import mean_squared_error\n",
        "from sklearn.metrics import r2_score"
      ]
    },
    {
      "cell_type": "markdown",
      "metadata": {},
      "source": [
        "### Cargamos el dataset\n",
        "\n",
        "El dataset puede consultarse [aquí](https://www.kaggle.com/datasets/ishaanv/ISLR-Auto)."
      ]
    },
    {
      "cell_type": "code",
      "execution_count": 2,
      "metadata": {
        "colab": {
          "base_uri": "https://localhost:8080/",
          "height": 206
        },
        "id": "EVrfYOpGgdnc",
        "outputId": "324b6c0e-8407-4cda-c240-4e93678e331d"
      },
      "outputs": [
        {
          "data": {
            "text/html": [
              "<div>\n",
              "<style scoped>\n",
              "    .dataframe tbody tr th:only-of-type {\n",
              "        vertical-align: middle;\n",
              "    }\n",
              "\n",
              "    .dataframe tbody tr th {\n",
              "        vertical-align: top;\n",
              "    }\n",
              "\n",
              "    .dataframe thead th {\n",
              "        text-align: right;\n",
              "    }\n",
              "</style>\n",
              "<table border=\"1\" class=\"dataframe\">\n",
              "  <thead>\n",
              "    <tr style=\"text-align: right;\">\n",
              "      <th></th>\n",
              "      <th>TV</th>\n",
              "      <th>Radio</th>\n",
              "      <th>Newspaper</th>\n",
              "      <th>Sales</th>\n",
              "    </tr>\n",
              "  </thead>\n",
              "  <tbody>\n",
              "    <tr>\n",
              "      <th>1</th>\n",
              "      <td>230.1</td>\n",
              "      <td>37.8</td>\n",
              "      <td>69.2</td>\n",
              "      <td>22.1</td>\n",
              "    </tr>\n",
              "    <tr>\n",
              "      <th>2</th>\n",
              "      <td>44.5</td>\n",
              "      <td>39.3</td>\n",
              "      <td>45.1</td>\n",
              "      <td>10.4</td>\n",
              "    </tr>\n",
              "    <tr>\n",
              "      <th>3</th>\n",
              "      <td>17.2</td>\n",
              "      <td>45.9</td>\n",
              "      <td>69.3</td>\n",
              "      <td>9.3</td>\n",
              "    </tr>\n",
              "    <tr>\n",
              "      <th>4</th>\n",
              "      <td>151.5</td>\n",
              "      <td>41.3</td>\n",
              "      <td>58.5</td>\n",
              "      <td>18.5</td>\n",
              "    </tr>\n",
              "    <tr>\n",
              "      <th>5</th>\n",
              "      <td>180.8</td>\n",
              "      <td>10.8</td>\n",
              "      <td>58.4</td>\n",
              "      <td>12.9</td>\n",
              "    </tr>\n",
              "  </tbody>\n",
              "</table>\n",
              "</div>"
            ],
            "text/plain": [
              "      TV  Radio  Newspaper  Sales\n",
              "1  230.1   37.8       69.2   22.1\n",
              "2   44.5   39.3       45.1   10.4\n",
              "3   17.2   45.9       69.3    9.3\n",
              "4  151.5   41.3       58.5   18.5\n",
              "5  180.8   10.8       58.4   12.9"
            ]
          },
          "execution_count": 2,
          "metadata": {},
          "output_type": "execute_result"
        }
      ],
      "source": [
        "publicidad_ruta = \"https://raw.githubusercontent.com/vbatiz/intro-ML/main/notebooks/datasets/advertising.csv\"\n",
        "df_publicidad = pd.read_csv(publicidad_ruta, index_col=0)\n",
        "df_publicidad.head()"
      ]
    },
    {
      "cell_type": "code",
      "execution_count": 3,
      "metadata": {
        "colab": {
          "base_uri": "https://localhost:8080/"
        },
        "id": "xYaEMVHlh781",
        "outputId": "6f6b1e37-396b-471a-c67b-70e22663e18e"
      },
      "outputs": [
        {
          "name": "stdout",
          "output_type": "stream",
          "text": [
            "<class 'pandas.core.frame.DataFrame'>\n",
            "Index: 200 entries, 1 to 200\n",
            "Data columns (total 4 columns):\n",
            " #   Column     Non-Null Count  Dtype  \n",
            "---  ------     --------------  -----  \n",
            " 0   TV         200 non-null    float64\n",
            " 1   Radio      200 non-null    float64\n",
            " 2   Newspaper  200 non-null    float64\n",
            " 3   Sales      200 non-null    float64\n",
            "dtypes: float64(4)\n",
            "memory usage: 7.8 KB\n"
          ]
        }
      ],
      "source": [
        "df_publicidad.info()"
      ]
    },
    {
      "cell_type": "code",
      "execution_count": 4,
      "metadata": {
        "colab": {
          "base_uri": "https://localhost:8080/",
          "height": 300
        },
        "id": "yiJXLqY9iGQj",
        "outputId": "2c513b90-2f18-4777-c66d-9e9e62573a56"
      },
      "outputs": [
        {
          "data": {
            "text/html": [
              "<div>\n",
              "<style scoped>\n",
              "    .dataframe tbody tr th:only-of-type {\n",
              "        vertical-align: middle;\n",
              "    }\n",
              "\n",
              "    .dataframe tbody tr th {\n",
              "        vertical-align: top;\n",
              "    }\n",
              "\n",
              "    .dataframe thead th {\n",
              "        text-align: right;\n",
              "    }\n",
              "</style>\n",
              "<table border=\"1\" class=\"dataframe\">\n",
              "  <thead>\n",
              "    <tr style=\"text-align: right;\">\n",
              "      <th></th>\n",
              "      <th>TV</th>\n",
              "      <th>Radio</th>\n",
              "      <th>Newspaper</th>\n",
              "      <th>Sales</th>\n",
              "    </tr>\n",
              "  </thead>\n",
              "  <tbody>\n",
              "    <tr>\n",
              "      <th>count</th>\n",
              "      <td>200.000000</td>\n",
              "      <td>200.000000</td>\n",
              "      <td>200.000000</td>\n",
              "      <td>200.000000</td>\n",
              "    </tr>\n",
              "    <tr>\n",
              "      <th>mean</th>\n",
              "      <td>147.042500</td>\n",
              "      <td>23.264000</td>\n",
              "      <td>30.554000</td>\n",
              "      <td>14.022500</td>\n",
              "    </tr>\n",
              "    <tr>\n",
              "      <th>std</th>\n",
              "      <td>85.854236</td>\n",
              "      <td>14.846809</td>\n",
              "      <td>21.778621</td>\n",
              "      <td>5.217457</td>\n",
              "    </tr>\n",
              "    <tr>\n",
              "      <th>min</th>\n",
              "      <td>0.700000</td>\n",
              "      <td>0.000000</td>\n",
              "      <td>0.300000</td>\n",
              "      <td>1.600000</td>\n",
              "    </tr>\n",
              "    <tr>\n",
              "      <th>25%</th>\n",
              "      <td>74.375000</td>\n",
              "      <td>9.975000</td>\n",
              "      <td>12.750000</td>\n",
              "      <td>10.375000</td>\n",
              "    </tr>\n",
              "    <tr>\n",
              "      <th>50%</th>\n",
              "      <td>149.750000</td>\n",
              "      <td>22.900000</td>\n",
              "      <td>25.750000</td>\n",
              "      <td>12.900000</td>\n",
              "    </tr>\n",
              "    <tr>\n",
              "      <th>75%</th>\n",
              "      <td>218.825000</td>\n",
              "      <td>36.525000</td>\n",
              "      <td>45.100000</td>\n",
              "      <td>17.400000</td>\n",
              "    </tr>\n",
              "    <tr>\n",
              "      <th>max</th>\n",
              "      <td>296.400000</td>\n",
              "      <td>49.600000</td>\n",
              "      <td>114.000000</td>\n",
              "      <td>27.000000</td>\n",
              "    </tr>\n",
              "  </tbody>\n",
              "</table>\n",
              "</div>"
            ],
            "text/plain": [
              "               TV       Radio   Newspaper       Sales\n",
              "count  200.000000  200.000000  200.000000  200.000000\n",
              "mean   147.042500   23.264000   30.554000   14.022500\n",
              "std     85.854236   14.846809   21.778621    5.217457\n",
              "min      0.700000    0.000000    0.300000    1.600000\n",
              "25%     74.375000    9.975000   12.750000   10.375000\n",
              "50%    149.750000   22.900000   25.750000   12.900000\n",
              "75%    218.825000   36.525000   45.100000   17.400000\n",
              "max    296.400000   49.600000  114.000000   27.000000"
            ]
          },
          "execution_count": 4,
          "metadata": {},
          "output_type": "execute_result"
        }
      ],
      "source": [
        "df_publicidad.describe()"
      ]
    },
    {
      "cell_type": "code",
      "execution_count": 5,
      "metadata": {
        "colab": {
          "base_uri": "https://localhost:8080/"
        },
        "id": "QsLjHAisiZyt",
        "outputId": "cdf6c98f-ae60-4576-9f4b-1ec8822abda0"
      },
      "outputs": [
        {
          "data": {
            "text/plain": [
              "Index(['TV', 'Radio', 'Newspaper', 'Sales'], dtype='object')"
            ]
          },
          "execution_count": 5,
          "metadata": {},
          "output_type": "execute_result"
        }
      ],
      "source": [
        "df_publicidad.columns"
      ]
    },
    {
      "cell_type": "code",
      "execution_count": 6,
      "metadata": {
        "colab": {
          "base_uri": "https://localhost:8080/"
        },
        "id": "Z9jCKOSkil_r",
        "outputId": "c5f6b195-cf6c-430a-c88d-1a9f358a24ff"
      },
      "outputs": [
        {
          "data": {
            "text/plain": [
              "(200, 4)"
            ]
          },
          "execution_count": 6,
          "metadata": {},
          "output_type": "execute_result"
        }
      ],
      "source": [
        "df_publicidad.shape"
      ]
    },
    {
      "cell_type": "code",
      "execution_count": 7,
      "metadata": {
        "id": "B5jLoNA_ipKE"
      },
      "outputs": [],
      "source": [
        "df_publicidad = df_publicidad.dropna(axis=0)"
      ]
    },
    {
      "cell_type": "markdown",
      "metadata": {
        "id": "Vomu6eRTjOSM"
      },
      "source": [
        "### Definimos la variable dependiente (y). Es el valor a predecir."
      ]
    },
    {
      "cell_type": "code",
      "execution_count": 8,
      "metadata": {
        "colab": {
          "base_uri": "https://localhost:8080/"
        },
        "id": "M2RzThUii8KU",
        "outputId": "c7332ced-c895-4c5b-c852-d0477d95a14d"
      },
      "outputs": [
        {
          "name": "stdout",
          "output_type": "stream",
          "text": [
            "1      22.1\n",
            "2      10.4\n",
            "3       9.3\n",
            "4      18.5\n",
            "5      12.9\n",
            "       ... \n",
            "196     7.6\n",
            "197     9.7\n",
            "198    12.8\n",
            "199    25.5\n",
            "200    13.4\n",
            "Name: Sales, Length: 200, dtype: float64\n"
          ]
        }
      ],
      "source": [
        "y = df_publicidad.Sales\n",
        "print(y)"
      ]
    },
    {
      "cell_type": "markdown",
      "metadata": {
        "id": "q53CpqOCjSzD"
      },
      "source": [
        "### Elegimos la(s) variable(s) independiente(s) o x. Son las características (features) a utilizar como predictores."
      ]
    },
    {
      "cell_type": "code",
      "execution_count": 9,
      "metadata": {
        "colab": {
          "base_uri": "https://localhost:8080/"
        },
        "id": "0toaOsnvjMQT",
        "outputId": "7f3d7588-ad20-40e0-d6f5-c83f7eede0d4"
      },
      "outputs": [
        {
          "name": "stdout",
          "output_type": "stream",
          "text": [
            "        TV  Radio  Newspaper\n",
            "1    230.1   37.8       69.2\n",
            "2     44.5   39.3       45.1\n",
            "3     17.2   45.9       69.3\n",
            "4    151.5   41.3       58.5\n",
            "5    180.8   10.8       58.4\n",
            "..     ...    ...        ...\n",
            "196   38.2    3.7       13.8\n",
            "197   94.2    4.9        8.1\n",
            "198  177.0    9.3        6.4\n",
            "199  283.6   42.0       66.2\n",
            "200  232.1    8.6        8.7\n",
            "\n",
            "[200 rows x 3 columns]\n"
          ]
        }
      ],
      "source": [
        "#publicidad_caracteristicas = [\"TV\"]\n",
        "publicidad_caracteristicas = [\"TV\",\"Radio\",\"Newspaper\"]\n",
        "x = df_publicidad[publicidad_caracteristicas]\n",
        "print(x)"
      ]
    },
    {
      "cell_type": "markdown",
      "metadata": {},
      "source": [
        "### Graficamos la relación ente X y Y. Usar cuando solo estemos utilizando una variable X."
      ]
    },
    {
      "cell_type": "code",
      "execution_count": null,
      "metadata": {
        "colab": {
          "base_uri": "https://localhost:8080/",
          "height": 472
        },
        "id": "VOjehIk4jxzD",
        "outputId": "f78681c3-7b9e-484c-88d4-e5fbd326fcc7"
      },
      "outputs": [],
      "source": [
        "# Usar cuando X sea una sola variable\n",
        "plt.scatter(x, y)\n",
        "plt.xlabel(\"TV\")\n",
        "plt.ylabel(\"Sales\")\n",
        "plt.title(\"Publicidad vs Ventas\")\n",
        "plt.show()"
      ]
    },
    {
      "cell_type": "markdown",
      "metadata": {
        "id": "gXBMtpMJksDk"
      },
      "source": [
        "### Creamos los conjuntos de entrenamiento y prueba"
      ]
    },
    {
      "cell_type": "code",
      "execution_count": 11,
      "metadata": {
        "id": "I8yZ5jtCkrT0"
      },
      "outputs": [],
      "source": [
        "#x_train, x_test, y_train, y_test = train_test_split(x, y, test_size=0.3, random_state=42)\n",
        "x_train, x_test, y_train, y_test = train_test_split(x, y, train_size=0.7, random_state=42)"
      ]
    },
    {
      "cell_type": "code",
      "execution_count": 12,
      "metadata": {
        "colab": {
          "base_uri": "https://localhost:8080/",
          "height": 206
        },
        "id": "oN9eDbSLyw-4",
        "outputId": "803279d4-ec79-4461-b294-00e429b47cc4"
      },
      "outputs": [
        {
          "data": {
            "text/html": [
              "<div>\n",
              "<style scoped>\n",
              "    .dataframe tbody tr th:only-of-type {\n",
              "        vertical-align: middle;\n",
              "    }\n",
              "\n",
              "    .dataframe tbody tr th {\n",
              "        vertical-align: top;\n",
              "    }\n",
              "\n",
              "    .dataframe thead th {\n",
              "        text-align: right;\n",
              "    }\n",
              "</style>\n",
              "<table border=\"1\" class=\"dataframe\">\n",
              "  <thead>\n",
              "    <tr style=\"text-align: right;\">\n",
              "      <th></th>\n",
              "      <th>TV</th>\n",
              "      <th>Radio</th>\n",
              "      <th>Newspaper</th>\n",
              "    </tr>\n",
              "  </thead>\n",
              "  <tbody>\n",
              "    <tr>\n",
              "      <th>96</th>\n",
              "      <td>163.3</td>\n",
              "      <td>31.6</td>\n",
              "      <td>52.9</td>\n",
              "    </tr>\n",
              "    <tr>\n",
              "      <th>16</th>\n",
              "      <td>195.4</td>\n",
              "      <td>47.7</td>\n",
              "      <td>52.9</td>\n",
              "    </tr>\n",
              "    <tr>\n",
              "      <th>31</th>\n",
              "      <td>292.9</td>\n",
              "      <td>28.3</td>\n",
              "      <td>43.2</td>\n",
              "    </tr>\n",
              "    <tr>\n",
              "      <th>159</th>\n",
              "      <td>11.7</td>\n",
              "      <td>36.9</td>\n",
              "      <td>45.2</td>\n",
              "    </tr>\n",
              "    <tr>\n",
              "      <th>129</th>\n",
              "      <td>220.3</td>\n",
              "      <td>49.0</td>\n",
              "      <td>3.2</td>\n",
              "    </tr>\n",
              "  </tbody>\n",
              "</table>\n",
              "</div>"
            ],
            "text/plain": [
              "        TV  Radio  Newspaper\n",
              "96   163.3   31.6       52.9\n",
              "16   195.4   47.7       52.9\n",
              "31   292.9   28.3       43.2\n",
              "159   11.7   36.9       45.2\n",
              "129  220.3   49.0        3.2"
            ]
          },
          "execution_count": 12,
          "metadata": {},
          "output_type": "execute_result"
        }
      ],
      "source": [
        "x_test.head()"
      ]
    },
    {
      "cell_type": "markdown",
      "metadata": {},
      "source": [
        "### Realizamos la prueba del codo para determinar la mejor K (Elbow test)"
      ]
    },
    {
      "cell_type": "code",
      "execution_count": 14,
      "metadata": {
        "colab": {
          "base_uri": "https://localhost:8080/",
          "height": 1000
        },
        "id": "LQ3Am_X9lydI",
        "outputId": "3da3aeec-390f-47a9-96dc-9531eca71868"
      },
      "outputs": [
        {
          "name": "stdout",
          "output_type": "stream",
          "text": [
            "K: 1, MSE: 2.8220000000000005\n",
            "K: 2, MSE: 2.5949999999999998\n",
            "K: 3, MSE: 2.5578703703703707\n",
            "K: 4, MSE: 2.4977604166666665\n",
            "K: 5, MSE: 2.523600000000001\n",
            "K: 6, MSE: 2.309458333333333\n",
            "K: 7, MSE: 2.3149455782312924\n",
            "K: 8, MSE: 2.59459375\n",
            "K: 9, MSE: 2.6853724279835394\n",
            "K: 10, MSE: 2.792148333333333\n"
          ]
        },
        {
          "data": {
            "image/png": "[encoded data removed]",
            "text/plain": [
              "<Figure size 1000x1000 with 1 Axes>"
            ]
          },
          "metadata": {},
          "output_type": "display_data"
        }
      ],
      "source": [
        "fig, ax = plt.subplots(figsize=(10, 10))\n",
        "k_list = range(1,11,1)\n",
        "knn_dict = {}\n",
        "for k in k_list:\n",
        "    knn = KNeighborsRegressor(n_neighbors=k)\n",
        "    modelo_knn = knn.fit(x_train, y_train) # se entrena con el conjunto de entrenamiento\n",
        "\n",
        "    y_pred = modelo_knn.predict(x_test) # realiza predicciones con el conjunto de prueba\n",
        "\n",
        "    mse = mean_squared_error(y_test, y_pred) # calcula el error cuadrático medio\n",
        "    #r2 = r2_score(y_test, y_pred) # calcula el coeficiente de determinación\n",
        "    knn_dict[k] = mse\n",
        "    print(f\"K: {k}, MSE: {mse}\")\n",
        "ax.plot(knn_dict.keys(), knn_dict.values())\n",
        "ax.set_xlabel(\"K\")\n",
        "ax.set_ylabel(\"MSE\")\n",
        "ax.set_title(\"MSE vs K (Elbow test)\")\n",
        "plt.show()"
      ]
    },
    {
      "cell_type": "markdown",
      "metadata": {},
      "source": [
        "### Creamos el modelo con el mejor valor de K"
      ]
    },
    {
      "cell_type": "code",
      "execution_count": 16,
      "metadata": {
        "colab": {
          "base_uri": "https://localhost:8080/"
        },
        "id": "T7JpM0jioblU",
        "outputId": "3d04b66c-f4c9-4c56-92e9-19d2eb00dec8"
      },
      "outputs": [
        {
          "name": "stdout",
          "output_type": "stream",
          "text": [
            "MSE: 2.309458333333333\n"
          ]
        }
      ],
      "source": [
        "# Creamos el modelo con el mejor valor de K\n",
        "knn = KNeighborsRegressor(n_neighbors=6)\n",
        "modelo_knn = knn.fit(x_train, y_train)\n",
        "y_knn_pred = modelo_knn.predict(x_test)\n",
        "mse = mean_squared_error(y_test, y_knn_pred)\n",
        "print(f\"MSE: {mse}\")"
      ]
    },
    {
      "cell_type": "markdown",
      "metadata": {},
      "source": [
        "### Probamos el modelo con Datos reales"
      ]
    },
    {
      "cell_type": "code",
      "execution_count": 17,
      "metadata": {
        "colab": {
          "base_uri": "https://localhost:8080/"
        },
        "id": "aPHR3nvu1bYc",
        "outputId": "518bafe7-41b4-4568-a20a-cc2cd3886f1c"
      },
      "outputs": [],
      "source": [
        "#Solicitamos al usuario los valores\n",
        "\n",
        "tv = float(input(\"Inversión TV: \"))\n",
        "radio = float(input(\"Inversión Radio: \"))\n",
        "newspaper = float(input(\"Inversión Newspaper: \"))"
      ]
    },
    {
      "cell_type": "markdown",
      "metadata": {},
      "source": [
        "### Creamos el dataset de entrada"
      ]
    },
    {
      "cell_type": "code",
      "execution_count": 18,
      "metadata": {
        "colab": {
          "base_uri": "https://localhost:8080/",
          "height": 81
        },
        "id": "5BYImjWHzm2o",
        "outputId": "d112c426-7158-4518-8dc9-8ca1f06fad78"
      },
      "outputs": [
        {
          "data": {
            "text/html": [
              "<div>\n",
              "<style scoped>\n",
              "    .dataframe tbody tr th:only-of-type {\n",
              "        vertical-align: middle;\n",
              "    }\n",
              "\n",
              "    .dataframe tbody tr th {\n",
              "        vertical-align: top;\n",
              "    }\n",
              "\n",
              "    .dataframe thead th {\n",
              "        text-align: right;\n",
              "    }\n",
              "</style>\n",
              "<table border=\"1\" class=\"dataframe\">\n",
              "  <thead>\n",
              "    <tr style=\"text-align: right;\">\n",
              "      <th></th>\n",
              "      <th>TV</th>\n",
              "      <th>Radio</th>\n",
              "      <th>Newspaper</th>\n",
              "    </tr>\n",
              "  </thead>\n",
              "  <tbody>\n",
              "    <tr>\n",
              "      <th>0</th>\n",
              "      <td>160.0</td>\n",
              "      <td>30.0</td>\n",
              "      <td>25.0</td>\n",
              "    </tr>\n",
              "  </tbody>\n",
              "</table>\n",
              "</div>"
            ],
            "text/plain": [
              "      TV  Radio  Newspaper\n",
              "0  160.0   30.0       25.0"
            ]
          },
          "execution_count": 18,
          "metadata": {},
          "output_type": "execute_result"
        }
      ],
      "source": [
        "# Creamos el dataset de entrada\n",
        "dict = {'TV': [tv], 'Radio': [radio], 'Newspaper': [newspaper]}\n",
        "df = pd.DataFrame(dict)\n",
        "df.head()"
      ]
    },
    {
      "cell_type": "markdown",
      "metadata": {},
      "source": [
        "### Realizamos la predicción"
      ]
    },
    {
      "cell_type": "code",
      "execution_count": 20,
      "metadata": {
        "colab": {
          "base_uri": "https://localhost:8080/"
        },
        "id": "ZIyxin4iycjG",
        "outputId": "1ed425ea-fdae-49f6-fa9a-36d1c27a3a12"
      },
      "outputs": [
        {
          "name": "stdout",
          "output_type": "stream",
          "text": [
            "Con una inversión en TV de 160.0, en radio de 30.0 y en periódico de 25.0 se pronostica una venta de: 16.016666666666666\n"
          ]
        }
      ],
      "source": [
        "resultado = modelo_knn.predict(df)\n",
        "print(f\"Con una inversión en TV de {tv}, en radio de {radio} y en periódico de {newspaper} se pronostica una venta de: {resultado[0]}\")"
      ]
    }
  ],
  "metadata": {
    "colab": {
      "provenance": []
    },
    "kernelspec": {
      "display_name": "Python 3",
      "name": "python3"
    },
    "language_info": {
      "codemirror_mode": {
        "name": "ipython",
        "version": 3
      },
      "file_extension": ".py",
      "mimetype": "text/x-python",
      "name": "python",
      "nbconvert_exporter": "python",
      "pygments_lexer": "ipython3",
      "version": "3.10.13"
    }
  },
  "nbformat": 4,
  "nbformat_minor": 0
}
